{
 "cells": [
  {
   "cell_type": "code",
   "execution_count": 1,
   "metadata": {},
   "outputs": [],
   "source": [
    "import pandas as pd\n",
    "import numpy as np\n",
    "import matplotlib.pyplot as plt \n",
    "import seaborn as sns\n",
    "import missingno as msno\n"
   ]
  },
  {
   "cell_type": "code",
   "execution_count": 147,
   "metadata": {},
   "outputs": [],
   "source": [
    "train=pd.read_csv('/Users/rouzbehrahimi/desktop/IE-BD/kaggle/Mercedes_Benz/train.csv')"
   ]
  },
  {
   "cell_type": "code",
   "execution_count": 148,
   "metadata": {},
   "outputs": [],
   "source": [
    "test=pd.read_csv('/Users/rouzbehrahimi/desktop/IE-BD/kaggle/Mercedes_Benz/test.csv')"
   ]
  },
  {
   "cell_type": "code",
   "execution_count": 149,
   "metadata": {},
   "outputs": [
    {
     "data": {
      "text/html": [
       "<div>\n",
       "<style scoped>\n",
       "    .dataframe tbody tr th:only-of-type {\n",
       "        vertical-align: middle;\n",
       "    }\n",
       "\n",
       "    .dataframe tbody tr th {\n",
       "        vertical-align: top;\n",
       "    }\n",
       "\n",
       "    .dataframe thead th {\n",
       "        text-align: right;\n",
       "    }\n",
       "</style>\n",
       "<table border=\"1\" class=\"dataframe\">\n",
       "  <thead>\n",
       "    <tr style=\"text-align: right;\">\n",
       "      <th></th>\n",
       "      <th>ID</th>\n",
       "      <th>y</th>\n",
       "      <th>X0</th>\n",
       "      <th>X1</th>\n",
       "      <th>X2</th>\n",
       "      <th>X3</th>\n",
       "      <th>X4</th>\n",
       "      <th>X5</th>\n",
       "      <th>X6</th>\n",
       "      <th>X8</th>\n",
       "      <th>...</th>\n",
       "      <th>X375</th>\n",
       "      <th>X376</th>\n",
       "      <th>X377</th>\n",
       "      <th>X378</th>\n",
       "      <th>X379</th>\n",
       "      <th>X380</th>\n",
       "      <th>X382</th>\n",
       "      <th>X383</th>\n",
       "      <th>X384</th>\n",
       "      <th>X385</th>\n",
       "    </tr>\n",
       "  </thead>\n",
       "  <tbody>\n",
       "    <tr>\n",
       "      <th>0</th>\n",
       "      <td>0</td>\n",
       "      <td>130.81</td>\n",
       "      <td>k</td>\n",
       "      <td>v</td>\n",
       "      <td>at</td>\n",
       "      <td>a</td>\n",
       "      <td>d</td>\n",
       "      <td>u</td>\n",
       "      <td>j</td>\n",
       "      <td>o</td>\n",
       "      <td>...</td>\n",
       "      <td>0</td>\n",
       "      <td>0</td>\n",
       "      <td>1</td>\n",
       "      <td>0</td>\n",
       "      <td>0</td>\n",
       "      <td>0</td>\n",
       "      <td>0</td>\n",
       "      <td>0</td>\n",
       "      <td>0</td>\n",
       "      <td>0</td>\n",
       "    </tr>\n",
       "    <tr>\n",
       "      <th>1</th>\n",
       "      <td>6</td>\n",
       "      <td>88.53</td>\n",
       "      <td>k</td>\n",
       "      <td>t</td>\n",
       "      <td>av</td>\n",
       "      <td>e</td>\n",
       "      <td>d</td>\n",
       "      <td>y</td>\n",
       "      <td>l</td>\n",
       "      <td>o</td>\n",
       "      <td>...</td>\n",
       "      <td>1</td>\n",
       "      <td>0</td>\n",
       "      <td>0</td>\n",
       "      <td>0</td>\n",
       "      <td>0</td>\n",
       "      <td>0</td>\n",
       "      <td>0</td>\n",
       "      <td>0</td>\n",
       "      <td>0</td>\n",
       "      <td>0</td>\n",
       "    </tr>\n",
       "    <tr>\n",
       "      <th>2</th>\n",
       "      <td>7</td>\n",
       "      <td>76.26</td>\n",
       "      <td>az</td>\n",
       "      <td>w</td>\n",
       "      <td>n</td>\n",
       "      <td>c</td>\n",
       "      <td>d</td>\n",
       "      <td>x</td>\n",
       "      <td>j</td>\n",
       "      <td>x</td>\n",
       "      <td>...</td>\n",
       "      <td>0</td>\n",
       "      <td>0</td>\n",
       "      <td>0</td>\n",
       "      <td>0</td>\n",
       "      <td>0</td>\n",
       "      <td>0</td>\n",
       "      <td>1</td>\n",
       "      <td>0</td>\n",
       "      <td>0</td>\n",
       "      <td>0</td>\n",
       "    </tr>\n",
       "    <tr>\n",
       "      <th>3</th>\n",
       "      <td>9</td>\n",
       "      <td>80.62</td>\n",
       "      <td>az</td>\n",
       "      <td>t</td>\n",
       "      <td>n</td>\n",
       "      <td>f</td>\n",
       "      <td>d</td>\n",
       "      <td>x</td>\n",
       "      <td>l</td>\n",
       "      <td>e</td>\n",
       "      <td>...</td>\n",
       "      <td>0</td>\n",
       "      <td>0</td>\n",
       "      <td>0</td>\n",
       "      <td>0</td>\n",
       "      <td>0</td>\n",
       "      <td>0</td>\n",
       "      <td>0</td>\n",
       "      <td>0</td>\n",
       "      <td>0</td>\n",
       "      <td>0</td>\n",
       "    </tr>\n",
       "    <tr>\n",
       "      <th>4</th>\n",
       "      <td>13</td>\n",
       "      <td>78.02</td>\n",
       "      <td>az</td>\n",
       "      <td>v</td>\n",
       "      <td>n</td>\n",
       "      <td>f</td>\n",
       "      <td>d</td>\n",
       "      <td>h</td>\n",
       "      <td>d</td>\n",
       "      <td>n</td>\n",
       "      <td>...</td>\n",
       "      <td>0</td>\n",
       "      <td>0</td>\n",
       "      <td>0</td>\n",
       "      <td>0</td>\n",
       "      <td>0</td>\n",
       "      <td>0</td>\n",
       "      <td>0</td>\n",
       "      <td>0</td>\n",
       "      <td>0</td>\n",
       "      <td>0</td>\n",
       "    </tr>\n",
       "  </tbody>\n",
       "</table>\n",
       "<p>5 rows × 378 columns</p>\n",
       "</div>"
      ],
      "text/plain": [
       "   ID       y  X0 X1  X2 X3 X4 X5 X6 X8  ...   X375  X376  X377  X378  X379  \\\n",
       "0   0  130.81   k  v  at  a  d  u  j  o  ...      0     0     1     0     0   \n",
       "1   6   88.53   k  t  av  e  d  y  l  o  ...      1     0     0     0     0   \n",
       "2   7   76.26  az  w   n  c  d  x  j  x  ...      0     0     0     0     0   \n",
       "3   9   80.62  az  t   n  f  d  x  l  e  ...      0     0     0     0     0   \n",
       "4  13   78.02  az  v   n  f  d  h  d  n  ...      0     0     0     0     0   \n",
       "\n",
       "   X380  X382  X383  X384  X385  \n",
       "0     0     0     0     0     0  \n",
       "1     0     0     0     0     0  \n",
       "2     0     1     0     0     0  \n",
       "3     0     0     0     0     0  \n",
       "4     0     0     0     0     0  \n",
       "\n",
       "[5 rows x 378 columns]"
      ]
     },
     "execution_count": 149,
     "metadata": {},
     "output_type": "execute_result"
    }
   ],
   "source": [
    "train.head()"
   ]
  },
  {
   "cell_type": "code",
   "execution_count": 150,
   "metadata": {},
   "outputs": [
    {
     "data": {
      "text/html": [
       "<div>\n",
       "<style scoped>\n",
       "    .dataframe tbody tr th:only-of-type {\n",
       "        vertical-align: middle;\n",
       "    }\n",
       "\n",
       "    .dataframe tbody tr th {\n",
       "        vertical-align: top;\n",
       "    }\n",
       "\n",
       "    .dataframe thead th {\n",
       "        text-align: right;\n",
       "    }\n",
       "</style>\n",
       "<table border=\"1\" class=\"dataframe\">\n",
       "  <thead>\n",
       "    <tr style=\"text-align: right;\">\n",
       "      <th></th>\n",
       "      <th>ID</th>\n",
       "      <th>X0</th>\n",
       "      <th>X1</th>\n",
       "      <th>X2</th>\n",
       "      <th>X3</th>\n",
       "      <th>X4</th>\n",
       "      <th>X5</th>\n",
       "      <th>X6</th>\n",
       "      <th>X8</th>\n",
       "      <th>X10</th>\n",
       "      <th>...</th>\n",
       "      <th>X375</th>\n",
       "      <th>X376</th>\n",
       "      <th>X377</th>\n",
       "      <th>X378</th>\n",
       "      <th>X379</th>\n",
       "      <th>X380</th>\n",
       "      <th>X382</th>\n",
       "      <th>X383</th>\n",
       "      <th>X384</th>\n",
       "      <th>X385</th>\n",
       "    </tr>\n",
       "  </thead>\n",
       "  <tbody>\n",
       "    <tr>\n",
       "      <th>0</th>\n",
       "      <td>1</td>\n",
       "      <td>az</td>\n",
       "      <td>v</td>\n",
       "      <td>n</td>\n",
       "      <td>f</td>\n",
       "      <td>d</td>\n",
       "      <td>t</td>\n",
       "      <td>a</td>\n",
       "      <td>w</td>\n",
       "      <td>0</td>\n",
       "      <td>...</td>\n",
       "      <td>0</td>\n",
       "      <td>0</td>\n",
       "      <td>0</td>\n",
       "      <td>1</td>\n",
       "      <td>0</td>\n",
       "      <td>0</td>\n",
       "      <td>0</td>\n",
       "      <td>0</td>\n",
       "      <td>0</td>\n",
       "      <td>0</td>\n",
       "    </tr>\n",
       "    <tr>\n",
       "      <th>1</th>\n",
       "      <td>2</td>\n",
       "      <td>t</td>\n",
       "      <td>b</td>\n",
       "      <td>ai</td>\n",
       "      <td>a</td>\n",
       "      <td>d</td>\n",
       "      <td>b</td>\n",
       "      <td>g</td>\n",
       "      <td>y</td>\n",
       "      <td>0</td>\n",
       "      <td>...</td>\n",
       "      <td>0</td>\n",
       "      <td>0</td>\n",
       "      <td>1</td>\n",
       "      <td>0</td>\n",
       "      <td>0</td>\n",
       "      <td>0</td>\n",
       "      <td>0</td>\n",
       "      <td>0</td>\n",
       "      <td>0</td>\n",
       "      <td>0</td>\n",
       "    </tr>\n",
       "    <tr>\n",
       "      <th>2</th>\n",
       "      <td>3</td>\n",
       "      <td>az</td>\n",
       "      <td>v</td>\n",
       "      <td>as</td>\n",
       "      <td>f</td>\n",
       "      <td>d</td>\n",
       "      <td>a</td>\n",
       "      <td>j</td>\n",
       "      <td>j</td>\n",
       "      <td>0</td>\n",
       "      <td>...</td>\n",
       "      <td>0</td>\n",
       "      <td>0</td>\n",
       "      <td>0</td>\n",
       "      <td>1</td>\n",
       "      <td>0</td>\n",
       "      <td>0</td>\n",
       "      <td>0</td>\n",
       "      <td>0</td>\n",
       "      <td>0</td>\n",
       "      <td>0</td>\n",
       "    </tr>\n",
       "    <tr>\n",
       "      <th>3</th>\n",
       "      <td>4</td>\n",
       "      <td>az</td>\n",
       "      <td>l</td>\n",
       "      <td>n</td>\n",
       "      <td>f</td>\n",
       "      <td>d</td>\n",
       "      <td>z</td>\n",
       "      <td>l</td>\n",
       "      <td>n</td>\n",
       "      <td>0</td>\n",
       "      <td>...</td>\n",
       "      <td>0</td>\n",
       "      <td>0</td>\n",
       "      <td>0</td>\n",
       "      <td>1</td>\n",
       "      <td>0</td>\n",
       "      <td>0</td>\n",
       "      <td>0</td>\n",
       "      <td>0</td>\n",
       "      <td>0</td>\n",
       "      <td>0</td>\n",
       "    </tr>\n",
       "    <tr>\n",
       "      <th>4</th>\n",
       "      <td>5</td>\n",
       "      <td>w</td>\n",
       "      <td>s</td>\n",
       "      <td>as</td>\n",
       "      <td>c</td>\n",
       "      <td>d</td>\n",
       "      <td>y</td>\n",
       "      <td>i</td>\n",
       "      <td>m</td>\n",
       "      <td>0</td>\n",
       "      <td>...</td>\n",
       "      <td>1</td>\n",
       "      <td>0</td>\n",
       "      <td>0</td>\n",
       "      <td>0</td>\n",
       "      <td>0</td>\n",
       "      <td>0</td>\n",
       "      <td>0</td>\n",
       "      <td>0</td>\n",
       "      <td>0</td>\n",
       "      <td>0</td>\n",
       "    </tr>\n",
       "  </tbody>\n",
       "</table>\n",
       "<p>5 rows × 377 columns</p>\n",
       "</div>"
      ],
      "text/plain": [
       "   ID  X0 X1  X2 X3 X4 X5 X6 X8  X10  ...   X375  X376  X377  X378  X379  \\\n",
       "0   1  az  v   n  f  d  t  a  w    0  ...      0     0     0     1     0   \n",
       "1   2   t  b  ai  a  d  b  g  y    0  ...      0     0     1     0     0   \n",
       "2   3  az  v  as  f  d  a  j  j    0  ...      0     0     0     1     0   \n",
       "3   4  az  l   n  f  d  z  l  n    0  ...      0     0     0     1     0   \n",
       "4   5   w  s  as  c  d  y  i  m    0  ...      1     0     0     0     0   \n",
       "\n",
       "   X380  X382  X383  X384  X385  \n",
       "0     0     0     0     0     0  \n",
       "1     0     0     0     0     0  \n",
       "2     0     0     0     0     0  \n",
       "3     0     0     0     0     0  \n",
       "4     0     0     0     0     0  \n",
       "\n",
       "[5 rows x 377 columns]"
      ]
     },
     "execution_count": 150,
     "metadata": {},
     "output_type": "execute_result"
    }
   ],
   "source": [
    "test.head()"
   ]
  },
  {
   "cell_type": "code",
   "execution_count": 151,
   "metadata": {},
   "outputs": [
    {
     "data": {
      "text/plain": [
       "(4209, 378)"
      ]
     },
     "execution_count": 151,
     "metadata": {},
     "output_type": "execute_result"
    }
   ],
   "source": [
    "train.shape"
   ]
  },
  {
   "cell_type": "code",
   "execution_count": 152,
   "metadata": {},
   "outputs": [
    {
     "data": {
      "text/plain": [
       "(4209, 377)"
      ]
     },
     "execution_count": 152,
     "metadata": {},
     "output_type": "execute_result"
    }
   ],
   "source": [
    "test.shape\n"
   ]
  },
  {
   "cell_type": "code",
   "execution_count": 153,
   "metadata": {},
   "outputs": [
    {
     "data": {
      "text/plain": [
       "(4209, 370)"
      ]
     },
     "execution_count": 153,
     "metadata": {},
     "output_type": "execute_result"
    }
   ],
   "source": [
    "numerics = [\"int16\", \"int32\", \"int64\", \"float16\", \"float32\", \"float64\"]\n",
    "train.select_dtypes(include=numerics).shape"
   ]
  },
  {
   "cell_type": "code",
   "execution_count": 154,
   "metadata": {},
   "outputs": [
    {
     "data": {
      "text/plain": [
       "(4209, 8)"
      ]
     },
     "execution_count": 154,
     "metadata": {},
     "output_type": "execute_result"
    }
   ],
   "source": [
    "train.select_dtypes('object').shape"
   ]
  },
  {
   "cell_type": "code",
   "execution_count": 155,
   "metadata": {},
   "outputs": [
    {
     "data": {
      "text/plain": [
       "0"
      ]
     },
     "execution_count": 155,
     "metadata": {},
     "output_type": "execute_result"
    }
   ],
   "source": [
    "train.isna().sum().sum()"
   ]
  },
  {
   "cell_type": "markdown",
   "metadata": {},
   "source": [
    "#### The dataset does not any null value"
   ]
  },
  {
   "cell_type": "markdown",
   "metadata": {},
   "source": [
    "### EDA"
   ]
  },
  {
   "cell_type": "code",
   "execution_count": 156,
   "metadata": {},
   "outputs": [
    {
     "data": {
      "text/plain": [
       "Index(['X0', 'X1', 'X2', 'X3', 'X4', 'X5', 'X6', 'X8'], dtype='object')"
      ]
     },
     "execution_count": 156,
     "metadata": {},
     "output_type": "execute_result"
    }
   ],
   "source": [
    "cat_features=train.columns[2:10]\n",
    "cat_features"
   ]
  },
  {
   "cell_type": "code",
   "execution_count": 157,
   "metadata": {},
   "outputs": [
    {
     "data": {
      "image/png": "[encoded data removed]",
      "text/plain": [
       "<Figure size 1584x2880 with 8 Axes>"
      ]
     },
     "metadata": {},
     "output_type": "display_data"
    }
   ],
   "source": [
    "counter = 1\n",
    "plt.figure(figsize=(22, 40))\n",
    "for i in cat_features:\n",
    "\n",
    "    plt.subplot(len(cat_features), 1, counter)\n",
    "    sns.boxenplot(train[i], train[\"y\"])\n",
    "    plt.title(\"Target variable variance over \" + str(i))\n",
    "    counter += 1"
   ]
  },
  {
   "cell_type": "markdown",
   "metadata": {},
   "source": [
    "####  As could be seen in above visualozations some features are not important for predicting 'y', because the target variable is almost constant over different level of those categorical features.\n"
   ]
  },
  {
   "cell_type": "markdown",
   "metadata": {},
   "source": [
    "### Bucketizing X0"
   ]
  },
  {
   "cell_type": "code",
   "execution_count": 158,
   "metadata": {},
   "outputs": [
    {
     "data": {
      "text/plain": [
       "(76.19500000000001, 152.17000000000002)"
      ]
     },
     "execution_count": 158,
     "metadata": {},
     "output_type": "execute_result"
    }
   ],
   "source": [
    "train.groupby(\"X0\").mean().y.min(), train.groupby(\"X0\").mean().y.max()"
   ]
  },
  {
   "cell_type": "code",
   "execution_count": 75,
   "metadata": {},
   "outputs": [
    {
     "data": {
      "text/html": [
       "<div>\n",
       "<style scoped>\n",
       "    .dataframe tbody tr th:only-of-type {\n",
       "        vertical-align: middle;\n",
       "    }\n",
       "\n",
       "    .dataframe tbody tr th {\n",
       "        vertical-align: top;\n",
       "    }\n",
       "\n",
       "    .dataframe thead th {\n",
       "        text-align: right;\n",
       "    }\n",
       "</style>\n",
       "<table border=\"1\" class=\"dataframe\">\n",
       "  <thead>\n",
       "    <tr style=\"text-align: right;\">\n",
       "      <th></th>\n",
       "      <th>test</th>\n",
       "      <th>train</th>\n",
       "    </tr>\n",
       "  </thead>\n",
       "  <tbody>\n",
       "    <tr>\n",
       "      <th>X0</th>\n",
       "      <td>49.0</td>\n",
       "      <td>47.0</td>\n",
       "    </tr>\n",
       "    <tr>\n",
       "      <th>X1</th>\n",
       "      <td>27.0</td>\n",
       "      <td>27.0</td>\n",
       "    </tr>\n",
       "    <tr>\n",
       "      <th>X10</th>\n",
       "      <td>2.0</td>\n",
       "      <td>NaN</td>\n",
       "    </tr>\n",
       "    <tr>\n",
       "      <th>X2</th>\n",
       "      <td>45.0</td>\n",
       "      <td>44.0</td>\n",
       "    </tr>\n",
       "    <tr>\n",
       "      <th>X3</th>\n",
       "      <td>7.0</td>\n",
       "      <td>7.0</td>\n",
       "    </tr>\n",
       "    <tr>\n",
       "      <th>X4</th>\n",
       "      <td>4.0</td>\n",
       "      <td>4.0</td>\n",
       "    </tr>\n",
       "    <tr>\n",
       "      <th>X5</th>\n",
       "      <td>32.0</td>\n",
       "      <td>29.0</td>\n",
       "    </tr>\n",
       "    <tr>\n",
       "      <th>X6</th>\n",
       "      <td>12.0</td>\n",
       "      <td>12.0</td>\n",
       "    </tr>\n",
       "    <tr>\n",
       "      <th>X8</th>\n",
       "      <td>25.0</td>\n",
       "      <td>25.0</td>\n",
       "    </tr>\n",
       "    <tr>\n",
       "      <th>y</th>\n",
       "      <td>NaN</td>\n",
       "      <td>2545.0</td>\n",
       "    </tr>\n",
       "  </tbody>\n",
       "</table>\n",
       "</div>"
      ],
      "text/plain": [
       "     test   train\n",
       "X0   49.0    47.0\n",
       "X1   27.0    27.0\n",
       "X10   2.0     NaN\n",
       "X2   45.0    44.0\n",
       "X3    7.0     7.0\n",
       "X4    4.0     4.0\n",
       "X5   32.0    29.0\n",
       "X6   12.0    12.0\n",
       "X8   25.0    25.0\n",
       "y     NaN  2545.0"
      ]
     },
     "execution_count": 75,
     "metadata": {},
     "output_type": "execute_result"
    }
   ],
   "source": [
    "pd.DataFrame({'test':test.iloc[:,1:10].nunique(),'train':train.iloc[:,1:10].nunique()})"
   ]
  },
  {
   "cell_type": "code",
   "execution_count": 186,
   "metadata": {},
   "outputs": [
    {
     "name": "stdout",
     "output_type": "stream",
     "text": [
      "forX0\n",
      "missing values for X0 are av\n",
      "missing values for X0 are ag\n",
      "missing values for X0 are an\n",
      "missing values for X0 are ae\n",
      "missing values for X0 are p\n",
      "missing values for X0 are bb\n",
      "forX1\n",
      "forX2\n",
      "missing values for X2 are aj\n",
      "missing values for X2 are ax\n",
      "missing values for X2 are ab\n",
      "missing values for X2 are w\n",
      "missing values for X2 are ad\n",
      "missing values for X2 are u\n",
      "forX3\n",
      "forX4\n",
      "forX5\n",
      "missing values for X5 are t\n",
      "missing values for X5 are b\n",
      "missing values for X5 are a\n",
      "missing values for X5 are z\n",
      "forX6\n",
      "forX8\n"
     ]
    }
   ],
   "source": [
    "for col in train.columns[2:10]:\n",
    "    print(\"for\"+ col)\n",
    "    for level in test[col].unique():\n",
    "        if level not in train[col].unique():\n",
    "            print(\"missing values for {} are {}\" .format(col,level))"
   ]
  },
  {
   "cell_type": "code",
   "execution_count": 176,
   "metadata": {},
   "outputs": [],
   "source": [
    "train[\"X0_new\"] = \"asghar\"\n",
    "for i in train[\"X0\"].unique():\n",
    "    if train[train[\"X0\"] == i].y.mean() > 75 and train[train[\"X0\"] == i].y.mean() < 82:\n",
    "        train.loc[train[\"X0\"] == i, \"X0_new\"] = \"a\"\n",
    "    elif (\n",
    "        train[train[\"X0\"] == i].y.mean() >= 82 and train[train[\"X0\"] == i].y.mean() < 89\n",
    "    ):\n",
    "        train.loc[train[\"X0\"] == i, \"X0_new\"] = \"b\"\n",
    "    elif (\n",
    "        train[train[\"X0\"] == i].y.mean() >= 89 and train[train[\"X0\"] == i].y.mean() < 96\n",
    "    ):\n",
    "        train.loc[train[\"X0\"] == i, \"X0_new\"] = \"c\"\n",
    "    elif (\n",
    "        train[train[\"X0\"] == i].y.mean() >= 96\n",
    "        and train[train[\"X0\"] == i].y.mean() < 103\n",
    "    ):\n",
    "        train.loc[train[\"X0\"] == i, \"X0_new\"] = \"d\"\n",
    "    elif (\n",
    "        train[train[\"X0\"] == i].y.mean() >= 103\n",
    "        and train[train[\"X0\"] == i].y.mean() < 110\n",
    "    ):\n",
    "        train.loc[train[\"X0\"] == i, \"X0_new\"] = \"e\"\n",
    "    elif (\n",
    "        train[train[\"X0\"] == i].y.mean() >= 110\n",
    "        and train[train[\"X0\"] == i].y.mean() < 117\n",
    "    ):\n",
    "        train.loc[train[\"X0\"] == i, \"X0_new\"] = \"f\"\n",
    "    elif (\n",
    "        train[train[\"X0\"] == i].y.mean() >= 117\n",
    "        and train[train[\"X0\"] == i].y.mean() < 124\n",
    "    ):\n",
    "        train.loc[train[\"X0\"] == i, \"X0_new\"] = \"g\"\n",
    "    elif (\n",
    "        train[train[\"X0\"] == i].y.mean() >= 124\n",
    "        and train[train[\"X0\"] == i].y.mean() < 131\n",
    "    ):\n",
    "        train.loc[train[\"X0\"] == i, \"X0_new\"] = \"h\"\n",
    "    elif (\n",
    "        train[train[\"X0\"] == i].y.mean() >= 131\n",
    "        and train[train[\"X0\"] == i].y.mean() < 138\n",
    "    ):\n",
    "        train.loc[train[\"X0\"] == i, \"X0_new\"] = \"i\"\n",
    "    elif (\n",
    "        train[train[\"X0\"] == i].y.mean() >= 138\n",
    "        and train[train[\"X0\"] == i].y.mean() < 145\n",
    "    ):\n",
    "        train.loc[train[\"X0\"] == i, \"X0_new\"] = \"j\"\n",
    "    elif (\n",
    "        train[train[\"X0\"] == i].y.mean() >= 145\n",
    "        and train[train[\"X0\"] == i].y.mean() < 153\n",
    "    ):\n",
    "        train.loc[train[\"X0\"] == i, \"X0_new\"] = \"k\""
   ]
  },
  {
   "cell_type": "code",
   "execution_count": 196,
   "metadata": {},
   "outputs": [],
   "source": [
    "X0_new_uniq=train['X0_new'].unique()"
   ]
  },
  {
   "cell_type": "code",
   "execution_count": 202,
   "metadata": {},
   "outputs": [
    {
     "data": {
      "text/plain": [
       "\"['az' 'bc']\""
      ]
     },
     "execution_count": 202,
     "metadata": {},
     "output_type": "execute_result"
    }
   ],
   "source": [
    "str(train[train['X0_new']=='a'].X0.unique())"
   ]
  },
  {
   "cell_type": "code",
   "execution_count": 203,
   "metadata": {},
   "outputs": [
    {
     "name": "stdout",
     "output_type": "stream",
     "text": [
      "d represents   ['k' 'd']\n",
      "a represents   ['az' 'bc']\n",
      "c represents   ['t' 'al' 'o' 's' 'n' 'f' 'y' 'am' 'z' 'q' 'e' 'ai' 'aq' 'ba' 'b' 'u' 'ad'\n",
      " 'm' 'l' 'ac']\n",
      "f represents   ['w' 'j' 'x' 'ak' 'at' 'ap' 'af' 'a' 'c' 'as' 'i' 'r' 'ax' 'g' 'ab']\n",
      "e represents   ['h' 'ay' 'aj' 'v' 'aw' 'ao']\n",
      "k represents   ['aa']\n",
      "g represents   ['au']\n"
     ]
    }
   ],
   "source": [
    "for i in X0_new_uniq:\n",
    "    mapping_val=train[train['X0_new']==i].X0.unique()\n",
    "    print(i+\" represents   \"+str(mapping_val))\n"
   ]
  },
  {
   "cell_type": "code",
   "execution_count": 208,
   "metadata": {},
   "outputs": [],
   "source": [
    "test[\"X0_new\"] = test[\"X0\"].map(\n",
    "    {\n",
    "        \"k\": \"d\",\n",
    "        \"d\": \"d\",\n",
    "        \"az\": \"a\",\n",
    "        \"bc\": \"a\",\n",
    "        \"t\": \"c\",\n",
    "        \"al\": \"c\",\n",
    "        \"o\": \"c\",\n",
    "        \"s\": \"c\",\n",
    "        \"n\": \"c\",\n",
    "        \"f\": \"c\",\n",
    "        \"y\": \"c\",\n",
    "        \"am\": \"c\",\n",
    "        \"z\": \"c\",\n",
    "        \"q\": \"c\",\n",
    "        \"e\": \"c\",\n",
    "        \"ai\": \"c\",\n",
    "        \"aq\": \"c\",\n",
    "        \"ba\": \"c\",\n",
    "        \"b\": \"c\",\n",
    "        \"u\": \"c\",\n",
    "        \"ad\": \"c\",\n",
    "        \"m\": \"c\",\n",
    "        \"l\": \"c\",\n",
    "        \"ac\": \"c\",\n",
    "        \"w\": \"f\",\n",
    "        \"j\": \"f\",\n",
    "        \"x\": \"f\",\n",
    "        \"ak\": \"f\",\n",
    "        \"at\": \"f\",\n",
    "        \"ap\": \"f\",\n",
    "        \"af\": \"f\",\n",
    "        \"a\": \"f\",\n",
    "        \"c\": \"f\",\n",
    "        \"as\": \"f\",\n",
    "        \"i\": \"f\",\n",
    "        \"r\": \"f\",\n",
    "        \"ax\": \"f\",\n",
    "        \"g\": \"f\",\n",
    "        \"ab\": \"f\",\n",
    "        \"h\": \"e\",\n",
    "        \"ay\": \"e\",\n",
    "        \"aj\": \"e\",\n",
    "        \"v\": \"e\",\n",
    "        \"aw\": \"e\",\n",
    "        \"ao\": \"e\",\n",
    "        \"aa\": \"k\",\n",
    "        \"au\": \"g\",\n",
    "        \"av\": \"ac\",\n",
    "        \"ag\": \"ag\",\n",
    "        \"an\": \"an\",\n",
    "        \"ae\": \"ae\",\n",
    "        \"p\": \"p\",\n",
    "        \"bb\": \"bb\",\n",
    "    }\n",
    ")"
   ]
  },
  {
   "cell_type": "code",
   "execution_count": 209,
   "metadata": {},
   "outputs": [
    {
     "data": {
      "text/plain": [
       "array(['a', 'c', 'f', 'e', 'd', 'ac', 'ag', 'g', 'an', 'ae', 'p', 'bb'],\n",
       "      dtype=object)"
      ]
     },
     "execution_count": 209,
     "metadata": {},
     "output_type": "execute_result"
    }
   ],
   "source": [
    "test['X0_new'].unique()"
   ]
  },
  {
   "cell_type": "markdown",
   "metadata": {},
   "source": [
    "### Bucketizing X2"
   ]
  },
  {
   "cell_type": "code",
   "execution_count": 211,
   "metadata": {},
   "outputs": [
    {
     "data": {
      "text/plain": [
       "(83.36992700729928, 146.3)"
      ]
     },
     "execution_count": 211,
     "metadata": {},
     "output_type": "execute_result"
    }
   ],
   "source": [
    "train.groupby(\"X2\").mean().y.min(), train.groupby(\"X2\").mean().y.max()"
   ]
  },
  {
   "cell_type": "code",
   "execution_count": 212,
   "metadata": {},
   "outputs": [],
   "source": [
    "train[\"X2_new\"] = \"asghar\"\n",
    "for i in train[\"X2\"].unique():\n",
    "    if train[train[\"X2\"] == i].y.mean() > 83 and train[train[\"X2\"] == i].y.mean() < 89:\n",
    "        train.loc[train[\"X2\"] == i, \"X2_new\"] = \"a\"\n",
    "    elif (\n",
    "        train[train[\"X2\"] == i].y.mean() >= 89 and train[train[\"X2\"] == i].y.mean() < 95\n",
    "    ):\n",
    "        train.loc[train[\"X2\"] == i, \"X2_new\"] = \"b\"\n",
    "    elif (\n",
    "        train[train[\"X2\"] == i].y.mean() >= 95\n",
    "        and train[train[\"X2\"] == i].y.mean() < 101\n",
    "    ):\n",
    "        train.loc[train[\"X2\"] == i, \"X2_new\"] = \"c\"\n",
    "    elif (\n",
    "        train[train[\"X2\"] == i].y.mean() >= 101\n",
    "        and train[train[\"X2\"] == i].y.mean() < 107\n",
    "    ):\n",
    "        train.loc[train[\"X2\"] == i, \"X2_new\"] = \"d\"\n",
    "    elif (\n",
    "        train[train[\"X2\"] == i].y.mean() >= 107\n",
    "        and train[train[\"X2\"] == i].y.mean() < 113\n",
    "    ):\n",
    "        train.loc[train[\"X2\"] == i, \"X2_new\"] = \"e\"\n",
    "    elif (\n",
    "        train[train[\"X2\"] == i].y.mean() >= 113\n",
    "        and train[train[\"X2\"] == i].y.mean() < 119\n",
    "    ):\n",
    "        train.loc[train[\"X2\"] == i, \"X2_new\"] = \"f\"\n",
    "    elif (\n",
    "        train[train[\"X2\"] == i].y.mean() >= 119\n",
    "        and train[train[\"X2\"] == i].y.mean() < 125\n",
    "    ):\n",
    "        train.loc[train[\"X2\"] == i, \"X2_new\"] = \"g\"\n",
    "    elif (\n",
    "        train[train[\"X2\"] == i].y.mean() >= 125\n",
    "        and train[train[\"X2\"] == i].y.mean() < 131\n",
    "    ):\n",
    "        train.loc[train[\"X2\"] == i, \"X2_new\"] = \"h\"\n",
    "    elif (\n",
    "        train[train[\"X2\"] == i].y.mean() >= 131\n",
    "        and train[train[\"X2\"] == i].y.mean() < 137\n",
    "    ):\n",
    "        train.loc[train[\"X2\"] == i, \"X2_new\"] = \"i\"\n",
    "    elif (\n",
    "        train[train[\"X2\"] == i].y.mean() >= 137\n",
    "        and train[train[\"X2\"] == i].y.mean() < 147\n",
    "    ):\n",
    "        train.loc[train[\"X2\"] == i, \"X2_new\"] = \"b\""
   ]
  },
  {
   "cell_type": "code",
   "execution_count": 213,
   "metadata": {},
   "outputs": [
    {
     "data": {
      "text/html": [
       "<div>\n",
       "<style scoped>\n",
       "    .dataframe tbody tr th:only-of-type {\n",
       "        vertical-align: middle;\n",
       "    }\n",
       "\n",
       "    .dataframe tbody tr th {\n",
       "        vertical-align: top;\n",
       "    }\n",
       "\n",
       "    .dataframe thead th {\n",
       "        text-align: right;\n",
       "    }\n",
       "</style>\n",
       "<table border=\"1\" class=\"dataframe\">\n",
       "  <thead>\n",
       "    <tr style=\"text-align: right;\">\n",
       "      <th></th>\n",
       "      <th>ID</th>\n",
       "      <th>y</th>\n",
       "      <th>X0</th>\n",
       "      <th>X1</th>\n",
       "      <th>X2</th>\n",
       "      <th>X3</th>\n",
       "      <th>X4</th>\n",
       "      <th>X5</th>\n",
       "      <th>X6</th>\n",
       "      <th>X8</th>\n",
       "      <th>...</th>\n",
       "      <th>X377</th>\n",
       "      <th>X378</th>\n",
       "      <th>X379</th>\n",
       "      <th>X380</th>\n",
       "      <th>X382</th>\n",
       "      <th>X383</th>\n",
       "      <th>X384</th>\n",
       "      <th>X385</th>\n",
       "      <th>X0_new</th>\n",
       "      <th>X2_new</th>\n",
       "    </tr>\n",
       "  </thead>\n",
       "  <tbody>\n",
       "    <tr>\n",
       "      <th>0</th>\n",
       "      <td>0</td>\n",
       "      <td>130.81</td>\n",
       "      <td>k</td>\n",
       "      <td>v</td>\n",
       "      <td>at</td>\n",
       "      <td>a</td>\n",
       "      <td>d</td>\n",
       "      <td>u</td>\n",
       "      <td>j</td>\n",
       "      <td>o</td>\n",
       "      <td>...</td>\n",
       "      <td>1</td>\n",
       "      <td>0</td>\n",
       "      <td>0</td>\n",
       "      <td>0</td>\n",
       "      <td>0</td>\n",
       "      <td>0</td>\n",
       "      <td>0</td>\n",
       "      <td>0</td>\n",
       "      <td>d</td>\n",
       "      <td>d</td>\n",
       "    </tr>\n",
       "    <tr>\n",
       "      <th>1</th>\n",
       "      <td>6</td>\n",
       "      <td>88.53</td>\n",
       "      <td>k</td>\n",
       "      <td>t</td>\n",
       "      <td>av</td>\n",
       "      <td>e</td>\n",
       "      <td>d</td>\n",
       "      <td>y</td>\n",
       "      <td>l</td>\n",
       "      <td>o</td>\n",
       "      <td>...</td>\n",
       "      <td>0</td>\n",
       "      <td>0</td>\n",
       "      <td>0</td>\n",
       "      <td>0</td>\n",
       "      <td>0</td>\n",
       "      <td>0</td>\n",
       "      <td>0</td>\n",
       "      <td>0</td>\n",
       "      <td>d</td>\n",
       "      <td>c</td>\n",
       "    </tr>\n",
       "    <tr>\n",
       "      <th>2</th>\n",
       "      <td>7</td>\n",
       "      <td>76.26</td>\n",
       "      <td>az</td>\n",
       "      <td>w</td>\n",
       "      <td>n</td>\n",
       "      <td>c</td>\n",
       "      <td>d</td>\n",
       "      <td>x</td>\n",
       "      <td>j</td>\n",
       "      <td>x</td>\n",
       "      <td>...</td>\n",
       "      <td>0</td>\n",
       "      <td>0</td>\n",
       "      <td>0</td>\n",
       "      <td>0</td>\n",
       "      <td>1</td>\n",
       "      <td>0</td>\n",
       "      <td>0</td>\n",
       "      <td>0</td>\n",
       "      <td>a</td>\n",
       "      <td>a</td>\n",
       "    </tr>\n",
       "    <tr>\n",
       "      <th>3</th>\n",
       "      <td>9</td>\n",
       "      <td>80.62</td>\n",
       "      <td>az</td>\n",
       "      <td>t</td>\n",
       "      <td>n</td>\n",
       "      <td>f</td>\n",
       "      <td>d</td>\n",
       "      <td>x</td>\n",
       "      <td>l</td>\n",
       "      <td>e</td>\n",
       "      <td>...</td>\n",
       "      <td>0</td>\n",
       "      <td>0</td>\n",
       "      <td>0</td>\n",
       "      <td>0</td>\n",
       "      <td>0</td>\n",
       "      <td>0</td>\n",
       "      <td>0</td>\n",
       "      <td>0</td>\n",
       "      <td>a</td>\n",
       "      <td>a</td>\n",
       "    </tr>\n",
       "    <tr>\n",
       "      <th>4</th>\n",
       "      <td>13</td>\n",
       "      <td>78.02</td>\n",
       "      <td>az</td>\n",
       "      <td>v</td>\n",
       "      <td>n</td>\n",
       "      <td>f</td>\n",
       "      <td>d</td>\n",
       "      <td>h</td>\n",
       "      <td>d</td>\n",
       "      <td>n</td>\n",
       "      <td>...</td>\n",
       "      <td>0</td>\n",
       "      <td>0</td>\n",
       "      <td>0</td>\n",
       "      <td>0</td>\n",
       "      <td>0</td>\n",
       "      <td>0</td>\n",
       "      <td>0</td>\n",
       "      <td>0</td>\n",
       "      <td>a</td>\n",
       "      <td>a</td>\n",
       "    </tr>\n",
       "  </tbody>\n",
       "</table>\n",
       "<p>5 rows × 380 columns</p>\n",
       "</div>"
      ],
      "text/plain": [
       "   ID       y  X0 X1  X2 X3 X4 X5 X6 X8   ...    X377  X378  X379  X380  X382  \\\n",
       "0   0  130.81   k  v  at  a  d  u  j  o   ...       1     0     0     0     0   \n",
       "1   6   88.53   k  t  av  e  d  y  l  o   ...       0     0     0     0     0   \n",
       "2   7   76.26  az  w   n  c  d  x  j  x   ...       0     0     0     0     1   \n",
       "3   9   80.62  az  t   n  f  d  x  l  e   ...       0     0     0     0     0   \n",
       "4  13   78.02  az  v   n  f  d  h  d  n   ...       0     0     0     0     0   \n",
       "\n",
       "   X383  X384  X385  X0_new  X2_new  \n",
       "0     0     0     0       d       d  \n",
       "1     0     0     0       d       c  \n",
       "2     0     0     0       a       a  \n",
       "3     0     0     0       a       a  \n",
       "4     0     0     0       a       a  \n",
       "\n",
       "[5 rows x 380 columns]"
      ]
     },
     "execution_count": 213,
     "metadata": {},
     "output_type": "execute_result"
    }
   ],
   "source": [
    "train.head()"
   ]
  },
  {
   "cell_type": "code",
   "execution_count": 214,
   "metadata": {},
   "outputs": [
    {
     "name": "stdout",
     "output_type": "stream",
     "text": [
      "d represents   ['at' 'as' 'aq' 'y' 'x' 'an' 'af' 'c' 'o']\n",
      "c represents   ['av' 'e' 'ak' 'm' 'a' 'ae' 'ay' 'b' 'h' 'z' 'p' 'q']\n",
      "a represents   ['n' 'ac' 'j']\n",
      "e represents   ['r' 'ap' 'g' 'i' 'aw' 'ao' 'au' 't' 'ah' 'l']\n",
      "b represents   ['ai' 'f' 'd' 'ag' 'aa']\n",
      "f represents   ['k' 's' 'al']\n",
      "g represents   ['am']\n",
      "i represents   ['ar']\n"
     ]
    }
   ],
   "source": [
    "X2_new_uniq=train['X2_new'].unique()\n",
    "for i in X2_new_uniq:\n",
    "    mapping_val=train[train['X2_new']==i].X2.unique()\n",
    "    print(i+\" represents   \"+str(mapping_val))\n",
    "\n"
   ]
  },
  {
   "cell_type": "code",
   "execution_count": 215,
   "metadata": {},
   "outputs": [],
   "source": [
    "test[\"X2_new\"] = test[\"X2\"].map(\n",
    "    {\n",
    "        \"at\": \"d\",\n",
    "        \"as\": \"d\",\n",
    "        \"aq\": \"d\",\n",
    "        \"y\": \"d\",\n",
    "        \"x\": \"d\",\n",
    "        \"an\": \"d\",\n",
    "        \"af\": \"d\",\n",
    "        \"c\": \"d\",\n",
    "        \"o\": \"d\",\n",
    "        \"av\": \"c\",\n",
    "        \"e\": \"c\",\n",
    "        \"ak\": \"c\",\n",
    "        \"m\": \"c\",\n",
    "        \"a\": \"c\",\n",
    "        \"ae\": \"c\",\n",
    "        \"ay\": \"c\",\n",
    "        \"b\": \"c\",\n",
    "        \"h\": \"c\",\n",
    "        \"z\": \"c\",\n",
    "        \"p\": \"c\",\n",
    "        \"q\": \"c\",\n",
    "        \"n\": \"a\",\n",
    "        \"ac\": \"a\",\n",
    "        \"j\": \"a\",\n",
    "        \"r\": \"e\",\n",
    "        \"ap\": \"e\",\n",
    "        \"g\": \"e\",\n",
    "        \"i\": \"e\",\n",
    "        \"aw\": \"e\",\n",
    "        \"ao\": \"e\",\n",
    "        \"au\": \"e\",\n",
    "        \"t\": \"e\",\n",
    "        \"ah\": \"e\",\n",
    "        \"l\": \"e\",\n",
    "        \"ai\": \"b\",\n",
    "        \"f\": \"b\",\n",
    "        \"d\": \"b\",\n",
    "        \"ag\": \"b\",\n",
    "        \"aa\": \"b\",\n",
    "        \"k\": \"f\",\n",
    "        \"s\": \"f\",\n",
    "        \"al\": \"f\",\n",
    "        \"am\": \"g\",\n",
    "        \"ar\": \"i\",\n",
    "        \"aj\": \"aj\",\n",
    "        \"ax\": \"ax\",\n",
    "        \"ab\": \"ab\",\n",
    "        \"w\": \"w\",\n",
    "        \"ad\": \"ad\",\n",
    "        \"u\": \"u\",\n",
    "    }\n",
    ")"
   ]
  },
  {
   "cell_type": "code",
   "execution_count": 217,
   "metadata": {},
   "outputs": [
    {
     "data": {
      "text/plain": [
       "array(['a', 'b', 'd', 'c', 'f', 'e', 'aj', 'ax', 'g', 'ab', 'w', 'ad',\n",
       "       'u'], dtype=object)"
      ]
     },
     "execution_count": 217,
     "metadata": {},
     "output_type": "execute_result"
    }
   ],
   "source": [
    "test['X2_new'].unique()"
   ]
  },
  {
   "cell_type": "markdown",
   "metadata": {},
   "source": [
    "### Bucketizing X1"
   ]
  },
  {
   "cell_type": "code",
   "execution_count": 277,
   "metadata": {},
   "outputs": [
    {
     "data": {
      "text/plain": [
       "(77.95521739130434, 107.33787878787881)"
      ]
     },
     "execution_count": 277,
     "metadata": {},
     "output_type": "execute_result"
    }
   ],
   "source": [
    "train.groupby(\"X1\").mean().y.min(), train.groupby(\"X1\").mean().y.max()"
   ]
  },
  {
   "cell_type": "code",
   "execution_count": 278,
   "metadata": {},
   "outputs": [],
   "source": [
    "train[\"X1_new\"] = \"asghar\"\n",
    "for i in train[\"X1\"].unique():\n",
    "    if train[train[\"X1\"] == i].y.mean() > 77 and train[train[\"X1\"] == i].y.mean() < 87:\n",
    "        train.loc[train[\"X1\"] == i, \"X1_new\"] = \"a\"\n",
    "    elif (\n",
    "        train[train[\"X1\"] == i].y.mean() >= 87 and train[train[\"X1\"] == i].y.mean() < 97\n",
    "    ):\n",
    "        train.loc[train[\"X1\"] == i, \"X1_new\"] = \"b\"\n",
    "    elif (\n",
    "        train[train[\"X1\"] == i].y.mean() >= 97\n",
    "        and train[train[\"X1\"] == i].y.mean() < 108\n",
    "    ):\n",
    "        train.loc[train[\"X1\"] == i, \"X1_new\"] = \"c\""
   ]
  },
  {
   "cell_type": "code",
   "execution_count": 285,
   "metadata": {},
   "outputs": [
    {
     "name": "stdout",
     "output_type": "stream",
     "text": [
      "c represents   ['v' 'b' 'r' 'l' 's' 'aa' 'c' 'a' 'e' 'h' 'j' 'u' 'p' 'n' 'i' 'd' 'f' 'm'\n",
      " 'k' 'g' 'q' 'ab']\n",
      "b represents   ['t' 'w' 'z' 'o']\n",
      "a represents   ['y']\n"
     ]
    }
   ],
   "source": [
    "X1_new_uniq = train[\"X1_new\"].unique()\n",
    "for i in X1_new_uniq:\n",
    "    mapping_val = train[train[\"X1_new\"] == i].X1.unique()\n",
    "    print(i + \" represents   \" + str(mapping_val))"
   ]
  },
  {
   "cell_type": "code",
   "execution_count": 286,
   "metadata": {},
   "outputs": [],
   "source": [
    "test[\"X1_new\"] = test[\"X1\"].map(\n",
    "    {\n",
    "        \"v\": \"c\",\n",
    "        \"b\": \"c\",\n",
    "        \"r\": \"c\",\n",
    "        \"l\": \"c\",\n",
    "        \"s\": \"c\",\n",
    "        \"aa\": \"c\",\n",
    "        \"c\": \"c\",\n",
    "        \"a\": \"c\",\n",
    "        \"e\": \"c\",\n",
    "        \"h\": \"c\",\n",
    "        \"j\": \"c\",\n",
    "        \"u\": \"c\",\n",
    "        \"p\": \"c\",\n",
    "        \"n\": \"c\",\n",
    "        \"i\": \"c\",\n",
    "        \"d\": \"c\",\n",
    "        \"f\": \"c\",\n",
    "        \"m\": \"c\",\n",
    "        \"k\": \"c\",\n",
    "        \"g\": \"c\",\n",
    "        \"q\": \"c\",\n",
    "        \"ab\": \"c\",\n",
    "        \"t\": \"b\",\n",
    "        \"w\": \"b\",\n",
    "        \"z\": \"b\",\n",
    "        \"o\": \"b\",\n",
    "        \"y\": \"a\",\n",
    "    }\n",
    ")"
   ]
  },
  {
   "cell_type": "code",
   "execution_count": 287,
   "metadata": {},
   "outputs": [
    {
     "data": {
      "text/plain": [
       "array(['c', 'b', 'a'], dtype=object)"
      ]
     },
     "execution_count": 287,
     "metadata": {},
     "output_type": "execute_result"
    }
   ],
   "source": [
    "test[\"X1_new\"].unique()"
   ]
  },
  {
   "cell_type": "code",
   "execution_count": null,
   "metadata": {},
   "outputs": [],
   "source": []
  },
  {
   "cell_type": "markdown",
   "metadata": {},
   "source": [
    "### Merging both dataset"
   ]
  },
  {
   "cell_type": "code",
   "execution_count": 288,
   "metadata": {},
   "outputs": [],
   "source": [
    "features_to_remove = [\"X8\", \"X5\", \"X3\", \"X2_new\", \"X0_new\",\"X1_new\"]"
   ]
  },
  {
   "cell_type": "code",
   "execution_count": 179,
   "metadata": {},
   "outputs": [
    {
     "data": {
      "text/plain": [
       "array(['d', 'a', 'c', 'f', 'e', 'k', 'g'], dtype=object)"
      ]
     },
     "execution_count": 179,
     "metadata": {},
     "output_type": "execute_result"
    }
   ],
   "source": [
    "train[\"X0_new\"].unique()"
   ]
  },
  {
   "cell_type": "code",
   "execution_count": 178,
   "metadata": {},
   "outputs": [
    {
     "data": {
      "text/html": [
       "<div>\n",
       "<style scoped>\n",
       "    .dataframe tbody tr th:only-of-type {\n",
       "        vertical-align: middle;\n",
       "    }\n",
       "\n",
       "    .dataframe tbody tr th {\n",
       "        vertical-align: top;\n",
       "    }\n",
       "\n",
       "    .dataframe thead th {\n",
       "        text-align: right;\n",
       "    }\n",
       "</style>\n",
       "<table border=\"1\" class=\"dataframe\">\n",
       "  <thead>\n",
       "    <tr style=\"text-align: right;\">\n",
       "      <th></th>\n",
       "      <th>ID</th>\n",
       "      <th>y</th>\n",
       "      <th>X0</th>\n",
       "      <th>X1</th>\n",
       "      <th>X2</th>\n",
       "      <th>X3</th>\n",
       "      <th>X4</th>\n",
       "      <th>X5</th>\n",
       "      <th>X6</th>\n",
       "      <th>X8</th>\n",
       "      <th>...</th>\n",
       "      <th>X376</th>\n",
       "      <th>X377</th>\n",
       "      <th>X378</th>\n",
       "      <th>X379</th>\n",
       "      <th>X380</th>\n",
       "      <th>X382</th>\n",
       "      <th>X383</th>\n",
       "      <th>X384</th>\n",
       "      <th>X385</th>\n",
       "      <th>X0_new</th>\n",
       "    </tr>\n",
       "  </thead>\n",
       "  <tbody>\n",
       "    <tr>\n",
       "      <th>0</th>\n",
       "      <td>0</td>\n",
       "      <td>130.81</td>\n",
       "      <td>k</td>\n",
       "      <td>v</td>\n",
       "      <td>at</td>\n",
       "      <td>a</td>\n",
       "      <td>d</td>\n",
       "      <td>u</td>\n",
       "      <td>j</td>\n",
       "      <td>o</td>\n",
       "      <td>...</td>\n",
       "      <td>0</td>\n",
       "      <td>1</td>\n",
       "      <td>0</td>\n",
       "      <td>0</td>\n",
       "      <td>0</td>\n",
       "      <td>0</td>\n",
       "      <td>0</td>\n",
       "      <td>0</td>\n",
       "      <td>0</td>\n",
       "      <td>d</td>\n",
       "    </tr>\n",
       "    <tr>\n",
       "      <th>1</th>\n",
       "      <td>6</td>\n",
       "      <td>88.53</td>\n",
       "      <td>k</td>\n",
       "      <td>t</td>\n",
       "      <td>av</td>\n",
       "      <td>e</td>\n",
       "      <td>d</td>\n",
       "      <td>y</td>\n",
       "      <td>l</td>\n",
       "      <td>o</td>\n",
       "      <td>...</td>\n",
       "      <td>0</td>\n",
       "      <td>0</td>\n",
       "      <td>0</td>\n",
       "      <td>0</td>\n",
       "      <td>0</td>\n",
       "      <td>0</td>\n",
       "      <td>0</td>\n",
       "      <td>0</td>\n",
       "      <td>0</td>\n",
       "      <td>d</td>\n",
       "    </tr>\n",
       "    <tr>\n",
       "      <th>2</th>\n",
       "      <td>7</td>\n",
       "      <td>76.26</td>\n",
       "      <td>az</td>\n",
       "      <td>w</td>\n",
       "      <td>n</td>\n",
       "      <td>c</td>\n",
       "      <td>d</td>\n",
       "      <td>x</td>\n",
       "      <td>j</td>\n",
       "      <td>x</td>\n",
       "      <td>...</td>\n",
       "      <td>0</td>\n",
       "      <td>0</td>\n",
       "      <td>0</td>\n",
       "      <td>0</td>\n",
       "      <td>0</td>\n",
       "      <td>1</td>\n",
       "      <td>0</td>\n",
       "      <td>0</td>\n",
       "      <td>0</td>\n",
       "      <td>a</td>\n",
       "    </tr>\n",
       "    <tr>\n",
       "      <th>3</th>\n",
       "      <td>9</td>\n",
       "      <td>80.62</td>\n",
       "      <td>az</td>\n",
       "      <td>t</td>\n",
       "      <td>n</td>\n",
       "      <td>f</td>\n",
       "      <td>d</td>\n",
       "      <td>x</td>\n",
       "      <td>l</td>\n",
       "      <td>e</td>\n",
       "      <td>...</td>\n",
       "      <td>0</td>\n",
       "      <td>0</td>\n",
       "      <td>0</td>\n",
       "      <td>0</td>\n",
       "      <td>0</td>\n",
       "      <td>0</td>\n",
       "      <td>0</td>\n",
       "      <td>0</td>\n",
       "      <td>0</td>\n",
       "      <td>a</td>\n",
       "    </tr>\n",
       "    <tr>\n",
       "      <th>4</th>\n",
       "      <td>13</td>\n",
       "      <td>78.02</td>\n",
       "      <td>az</td>\n",
       "      <td>v</td>\n",
       "      <td>n</td>\n",
       "      <td>f</td>\n",
       "      <td>d</td>\n",
       "      <td>h</td>\n",
       "      <td>d</td>\n",
       "      <td>n</td>\n",
       "      <td>...</td>\n",
       "      <td>0</td>\n",
       "      <td>0</td>\n",
       "      <td>0</td>\n",
       "      <td>0</td>\n",
       "      <td>0</td>\n",
       "      <td>0</td>\n",
       "      <td>0</td>\n",
       "      <td>0</td>\n",
       "      <td>0</td>\n",
       "      <td>a</td>\n",
       "    </tr>\n",
       "  </tbody>\n",
       "</table>\n",
       "<p>5 rows × 379 columns</p>\n",
       "</div>"
      ],
      "text/plain": [
       "   ID       y  X0 X1  X2 X3 X4 X5 X6 X8   ...    X376  X377  X378  X379  X380  \\\n",
       "0   0  130.81   k  v  at  a  d  u  j  o   ...       0     1     0     0     0   \n",
       "1   6   88.53   k  t  av  e  d  y  l  o   ...       0     0     0     0     0   \n",
       "2   7   76.26  az  w   n  c  d  x  j  x   ...       0     0     0     0     0   \n",
       "3   9   80.62  az  t   n  f  d  x  l  e   ...       0     0     0     0     0   \n",
       "4  13   78.02  az  v   n  f  d  h  d  n   ...       0     0     0     0     0   \n",
       "\n",
       "   X382  X383  X384  X385  X0_new  \n",
       "0     0     0     0     0       d  \n",
       "1     0     0     0     0       d  \n",
       "2     1     0     0     0       a  \n",
       "3     0     0     0     0       a  \n",
       "4     0     0     0     0       a  \n",
       "\n",
       "[5 rows x 379 columns]"
      ]
     },
     "execution_count": 178,
     "metadata": {},
     "output_type": "execute_result"
    }
   ],
   "source": [
    "train.head()"
   ]
  },
  {
   "cell_type": "code",
   "execution_count": 289,
   "metadata": {},
   "outputs": [
    {
     "data": {
      "text/html": [
       "<div>\n",
       "<style scoped>\n",
       "    .dataframe tbody tr th:only-of-type {\n",
       "        vertical-align: middle;\n",
       "    }\n",
       "\n",
       "    .dataframe tbody tr th {\n",
       "        vertical-align: top;\n",
       "    }\n",
       "\n",
       "    .dataframe thead th {\n",
       "        text-align: right;\n",
       "    }\n",
       "</style>\n",
       "<table border=\"1\" class=\"dataframe\">\n",
       "  <thead>\n",
       "    <tr style=\"text-align: right;\">\n",
       "      <th></th>\n",
       "      <th>ID</th>\n",
       "      <th>y</th>\n",
       "      <th>X0</th>\n",
       "      <th>X1</th>\n",
       "      <th>X2</th>\n",
       "      <th>X3</th>\n",
       "      <th>X4</th>\n",
       "      <th>X5</th>\n",
       "      <th>X6</th>\n",
       "      <th>X8</th>\n",
       "      <th>...</th>\n",
       "      <th>X378</th>\n",
       "      <th>X379</th>\n",
       "      <th>X380</th>\n",
       "      <th>X382</th>\n",
       "      <th>X383</th>\n",
       "      <th>X384</th>\n",
       "      <th>X385</th>\n",
       "      <th>X0_new</th>\n",
       "      <th>X2_new</th>\n",
       "      <th>X1_new</th>\n",
       "    </tr>\n",
       "  </thead>\n",
       "  <tbody>\n",
       "    <tr>\n",
       "      <th>0</th>\n",
       "      <td>0</td>\n",
       "      <td>130.81</td>\n",
       "      <td>k</td>\n",
       "      <td>v</td>\n",
       "      <td>at</td>\n",
       "      <td>a</td>\n",
       "      <td>d</td>\n",
       "      <td>u</td>\n",
       "      <td>j</td>\n",
       "      <td>o</td>\n",
       "      <td>...</td>\n",
       "      <td>0</td>\n",
       "      <td>0</td>\n",
       "      <td>0</td>\n",
       "      <td>0</td>\n",
       "      <td>0</td>\n",
       "      <td>0</td>\n",
       "      <td>0</td>\n",
       "      <td>d</td>\n",
       "      <td>d</td>\n",
       "      <td>c</td>\n",
       "    </tr>\n",
       "    <tr>\n",
       "      <th>1</th>\n",
       "      <td>6</td>\n",
       "      <td>88.53</td>\n",
       "      <td>k</td>\n",
       "      <td>t</td>\n",
       "      <td>av</td>\n",
       "      <td>e</td>\n",
       "      <td>d</td>\n",
       "      <td>y</td>\n",
       "      <td>l</td>\n",
       "      <td>o</td>\n",
       "      <td>...</td>\n",
       "      <td>0</td>\n",
       "      <td>0</td>\n",
       "      <td>0</td>\n",
       "      <td>0</td>\n",
       "      <td>0</td>\n",
       "      <td>0</td>\n",
       "      <td>0</td>\n",
       "      <td>d</td>\n",
       "      <td>c</td>\n",
       "      <td>b</td>\n",
       "    </tr>\n",
       "    <tr>\n",
       "      <th>2</th>\n",
       "      <td>7</td>\n",
       "      <td>76.26</td>\n",
       "      <td>az</td>\n",
       "      <td>w</td>\n",
       "      <td>n</td>\n",
       "      <td>c</td>\n",
       "      <td>d</td>\n",
       "      <td>x</td>\n",
       "      <td>j</td>\n",
       "      <td>x</td>\n",
       "      <td>...</td>\n",
       "      <td>0</td>\n",
       "      <td>0</td>\n",
       "      <td>0</td>\n",
       "      <td>1</td>\n",
       "      <td>0</td>\n",
       "      <td>0</td>\n",
       "      <td>0</td>\n",
       "      <td>a</td>\n",
       "      <td>a</td>\n",
       "      <td>b</td>\n",
       "    </tr>\n",
       "    <tr>\n",
       "      <th>3</th>\n",
       "      <td>9</td>\n",
       "      <td>80.62</td>\n",
       "      <td>az</td>\n",
       "      <td>t</td>\n",
       "      <td>n</td>\n",
       "      <td>f</td>\n",
       "      <td>d</td>\n",
       "      <td>x</td>\n",
       "      <td>l</td>\n",
       "      <td>e</td>\n",
       "      <td>...</td>\n",
       "      <td>0</td>\n",
       "      <td>0</td>\n",
       "      <td>0</td>\n",
       "      <td>0</td>\n",
       "      <td>0</td>\n",
       "      <td>0</td>\n",
       "      <td>0</td>\n",
       "      <td>a</td>\n",
       "      <td>a</td>\n",
       "      <td>b</td>\n",
       "    </tr>\n",
       "    <tr>\n",
       "      <th>4</th>\n",
       "      <td>13</td>\n",
       "      <td>78.02</td>\n",
       "      <td>az</td>\n",
       "      <td>v</td>\n",
       "      <td>n</td>\n",
       "      <td>f</td>\n",
       "      <td>d</td>\n",
       "      <td>h</td>\n",
       "      <td>d</td>\n",
       "      <td>n</td>\n",
       "      <td>...</td>\n",
       "      <td>0</td>\n",
       "      <td>0</td>\n",
       "      <td>0</td>\n",
       "      <td>0</td>\n",
       "      <td>0</td>\n",
       "      <td>0</td>\n",
       "      <td>0</td>\n",
       "      <td>a</td>\n",
       "      <td>a</td>\n",
       "      <td>c</td>\n",
       "    </tr>\n",
       "  </tbody>\n",
       "</table>\n",
       "<p>5 rows × 381 columns</p>\n",
       "</div>"
      ],
      "text/plain": [
       "   ID       y  X0 X1  X2 X3 X4 X5 X6 X8   ...    X378  X379  X380  X382  X383  \\\n",
       "0   0  130.81   k  v  at  a  d  u  j  o   ...       0     0     0     0     0   \n",
       "1   6   88.53   k  t  av  e  d  y  l  o   ...       0     0     0     0     0   \n",
       "2   7   76.26  az  w   n  c  d  x  j  x   ...       0     0     0     1     0   \n",
       "3   9   80.62  az  t   n  f  d  x  l  e   ...       0     0     0     0     0   \n",
       "4  13   78.02  az  v   n  f  d  h  d  n   ...       0     0     0     0     0   \n",
       "\n",
       "   X384  X385  X0_new  X2_new  X1_new  \n",
       "0     0     0       d       d       c  \n",
       "1     0     0       d       c       b  \n",
       "2     0     0       a       a       b  \n",
       "3     0     0       a       a       b  \n",
       "4     0     0       a       a       c  \n",
       "\n",
       "[5 rows x 381 columns]"
      ]
     },
     "execution_count": 289,
     "metadata": {},
     "output_type": "execute_result"
    }
   ],
   "source": [
    "test['y']=0\n",
    "df=train.append(test,sort=False)\n",
    "df.head()"
   ]
  },
  {
   "cell_type": "code",
   "execution_count": 290,
   "metadata": {},
   "outputs": [
    {
     "data": {
      "text/html": [
       "<div>\n",
       "<style scoped>\n",
       "    .dataframe tbody tr th:only-of-type {\n",
       "        vertical-align: middle;\n",
       "    }\n",
       "\n",
       "    .dataframe tbody tr th {\n",
       "        vertical-align: top;\n",
       "    }\n",
       "\n",
       "    .dataframe thead th {\n",
       "        text-align: right;\n",
       "    }\n",
       "</style>\n",
       "<table border=\"1\" class=\"dataframe\">\n",
       "  <thead>\n",
       "    <tr style=\"text-align: right;\">\n",
       "      <th></th>\n",
       "      <th>ID</th>\n",
       "      <th>y</th>\n",
       "      <th>X0</th>\n",
       "      <th>X1</th>\n",
       "      <th>X2</th>\n",
       "      <th>X3</th>\n",
       "      <th>X4</th>\n",
       "      <th>X5</th>\n",
       "      <th>X6</th>\n",
       "      <th>X8</th>\n",
       "      <th>...</th>\n",
       "      <th>X378</th>\n",
       "      <th>X379</th>\n",
       "      <th>X380</th>\n",
       "      <th>X382</th>\n",
       "      <th>X383</th>\n",
       "      <th>X384</th>\n",
       "      <th>X385</th>\n",
       "      <th>X0_new</th>\n",
       "      <th>X2_new</th>\n",
       "      <th>X1_new</th>\n",
       "    </tr>\n",
       "  </thead>\n",
       "  <tbody>\n",
       "    <tr>\n",
       "      <th>0</th>\n",
       "      <td>0</td>\n",
       "      <td>130.81</td>\n",
       "      <td>d</td>\n",
       "      <td>c</td>\n",
       "      <td>d</td>\n",
       "      <td>a</td>\n",
       "      <td>d</td>\n",
       "      <td>u</td>\n",
       "      <td>j</td>\n",
       "      <td>o</td>\n",
       "      <td>...</td>\n",
       "      <td>0</td>\n",
       "      <td>0</td>\n",
       "      <td>0</td>\n",
       "      <td>0</td>\n",
       "      <td>0</td>\n",
       "      <td>0</td>\n",
       "      <td>0</td>\n",
       "      <td>d</td>\n",
       "      <td>d</td>\n",
       "      <td>c</td>\n",
       "    </tr>\n",
       "    <tr>\n",
       "      <th>1</th>\n",
       "      <td>6</td>\n",
       "      <td>88.53</td>\n",
       "      <td>d</td>\n",
       "      <td>b</td>\n",
       "      <td>c</td>\n",
       "      <td>e</td>\n",
       "      <td>d</td>\n",
       "      <td>y</td>\n",
       "      <td>l</td>\n",
       "      <td>o</td>\n",
       "      <td>...</td>\n",
       "      <td>0</td>\n",
       "      <td>0</td>\n",
       "      <td>0</td>\n",
       "      <td>0</td>\n",
       "      <td>0</td>\n",
       "      <td>0</td>\n",
       "      <td>0</td>\n",
       "      <td>d</td>\n",
       "      <td>c</td>\n",
       "      <td>b</td>\n",
       "    </tr>\n",
       "    <tr>\n",
       "      <th>2</th>\n",
       "      <td>7</td>\n",
       "      <td>76.26</td>\n",
       "      <td>a</td>\n",
       "      <td>b</td>\n",
       "      <td>a</td>\n",
       "      <td>c</td>\n",
       "      <td>d</td>\n",
       "      <td>x</td>\n",
       "      <td>j</td>\n",
       "      <td>x</td>\n",
       "      <td>...</td>\n",
       "      <td>0</td>\n",
       "      <td>0</td>\n",
       "      <td>0</td>\n",
       "      <td>1</td>\n",
       "      <td>0</td>\n",
       "      <td>0</td>\n",
       "      <td>0</td>\n",
       "      <td>a</td>\n",
       "      <td>a</td>\n",
       "      <td>b</td>\n",
       "    </tr>\n",
       "    <tr>\n",
       "      <th>3</th>\n",
       "      <td>9</td>\n",
       "      <td>80.62</td>\n",
       "      <td>a</td>\n",
       "      <td>b</td>\n",
       "      <td>a</td>\n",
       "      <td>f</td>\n",
       "      <td>d</td>\n",
       "      <td>x</td>\n",
       "      <td>l</td>\n",
       "      <td>e</td>\n",
       "      <td>...</td>\n",
       "      <td>0</td>\n",
       "      <td>0</td>\n",
       "      <td>0</td>\n",
       "      <td>0</td>\n",
       "      <td>0</td>\n",
       "      <td>0</td>\n",
       "      <td>0</td>\n",
       "      <td>a</td>\n",
       "      <td>a</td>\n",
       "      <td>b</td>\n",
       "    </tr>\n",
       "    <tr>\n",
       "      <th>4</th>\n",
       "      <td>13</td>\n",
       "      <td>78.02</td>\n",
       "      <td>a</td>\n",
       "      <td>c</td>\n",
       "      <td>a</td>\n",
       "      <td>f</td>\n",
       "      <td>d</td>\n",
       "      <td>h</td>\n",
       "      <td>d</td>\n",
       "      <td>n</td>\n",
       "      <td>...</td>\n",
       "      <td>0</td>\n",
       "      <td>0</td>\n",
       "      <td>0</td>\n",
       "      <td>0</td>\n",
       "      <td>0</td>\n",
       "      <td>0</td>\n",
       "      <td>0</td>\n",
       "      <td>a</td>\n",
       "      <td>a</td>\n",
       "      <td>c</td>\n",
       "    </tr>\n",
       "  </tbody>\n",
       "</table>\n",
       "<p>5 rows × 381 columns</p>\n",
       "</div>"
      ],
      "text/plain": [
       "   ID       y X0 X1 X2 X3 X4 X5 X6 X8   ...    X378  X379  X380  X382  X383  \\\n",
       "0   0  130.81  d  c  d  a  d  u  j  o   ...       0     0     0     0     0   \n",
       "1   6   88.53  d  b  c  e  d  y  l  o   ...       0     0     0     0     0   \n",
       "2   7   76.26  a  b  a  c  d  x  j  x   ...       0     0     0     1     0   \n",
       "3   9   80.62  a  b  a  f  d  x  l  e   ...       0     0     0     0     0   \n",
       "4  13   78.02  a  c  a  f  d  h  d  n   ...       0     0     0     0     0   \n",
       "\n",
       "   X384  X385  X0_new  X2_new  X1_new  \n",
       "0     0     0       d       d       c  \n",
       "1     0     0       d       c       b  \n",
       "2     0     0       a       a       b  \n",
       "3     0     0       a       a       b  \n",
       "4     0     0       a       a       c  \n",
       "\n",
       "[5 rows x 381 columns]"
      ]
     },
     "execution_count": 290,
     "metadata": {},
     "output_type": "execute_result"
    }
   ],
   "source": [
    "df['X0']=df['X0_new']\n",
    "df['X2']=df['X2_new']\n",
    "df['X1']=df['X1_new']\n",
    "df.head()"
   ]
  },
  {
   "cell_type": "code",
   "execution_count": 220,
   "metadata": {},
   "outputs": [],
   "source": [
    "def type_shifter(df, features, new_type):\n",
    "    \"\"\"this function takes the selected features of a data frame and \n",
    "    cast them to the new_type\"\"\"\n",
    "    for i in features:\n",
    "        df[i] = df[i].astype(new_type)\n",
    "    return df.info()"
   ]
  },
  {
   "cell_type": "code",
   "execution_count": 291,
   "metadata": {},
   "outputs": [
    {
     "name": "stdout",
     "output_type": "stream",
     "text": [
      "<class 'pandas.core.frame.DataFrame'>\n",
      "Int64Index: 8418 entries, 0 to 4208\n",
      "Columns: 381 entries, ID to X1_new\n",
      "dtypes: category(8), float64(1), int64(369), object(3)\n",
      "memory usage: 24.1+ MB\n"
     ]
    }
   ],
   "source": [
    "type_shifter(df, cat_features, \"category\")"
   ]
  },
  {
   "cell_type": "code",
   "execution_count": 292,
   "metadata": {},
   "outputs": [
    {
     "data": {
      "text/plain": [
       "Index(['X0', 'X1', 'X2', 'X3', 'X4', 'X5', 'X6', 'X8'], dtype='object')"
      ]
     },
     "execution_count": 292,
     "metadata": {},
     "output_type": "execute_result"
    }
   ],
   "source": [
    "df.select_dtypes(\"category\").columns"
   ]
  },
  {
   "cell_type": "code",
   "execution_count": 293,
   "metadata": {},
   "outputs": [
    {
     "data": {
      "text/plain": [
       "(8418, 381)"
      ]
     },
     "execution_count": 293,
     "metadata": {},
     "output_type": "execute_result"
    }
   ],
   "source": [
    "df.shape"
   ]
  },
  {
   "cell_type": "code",
   "execution_count": 294,
   "metadata": {},
   "outputs": [],
   "source": [
    "df.drop(features_to_remove, axis=1, inplace=True)"
   ]
  },
  {
   "cell_type": "code",
   "execution_count": 295,
   "metadata": {},
   "outputs": [
    {
     "data": {
      "text/plain": [
       "(8418, 375)"
      ]
     },
     "execution_count": 295,
     "metadata": {},
     "output_type": "execute_result"
    }
   ],
   "source": [
    "df.shape"
   ]
  },
  {
   "cell_type": "code",
   "execution_count": 231,
   "metadata": {},
   "outputs": [],
   "source": [
    "from sklearn.decomposition import PCA"
   ]
  },
  {
   "cell_type": "code",
   "execution_count": 296,
   "metadata": {},
   "outputs": [],
   "source": [
    "pca = PCA()\n",
    "principalComponents = pca.fit_transform(\n",
    "    df.select_dtypes(include=numerics).drop([\"y\", \"ID\"], axis=1)\n",
    ")\n",
    "variance = pca.explained_variance_ratio_  # calculate variance ratios\n",
    "var = np.cumsum(np.round(pca.explained_variance_ratio_, decimals=3) * 100)"
   ]
  },
  {
   "cell_type": "code",
   "execution_count": 297,
   "metadata": {},
   "outputs": [
    {
     "data": {
      "text/plain": [
       "[<matplotlib.lines.Line2D at 0x1a1f8c3748>]"
      ]
     },
     "execution_count": 297,
     "metadata": {},
     "output_type": "execute_result"
    },
    {
     "data": {
      "image/png": "[encoded data removed]",
      "text/plain": [
       "<Figure size 720x432 with 1 Axes>"
      ]
     },
     "metadata": {},
     "output_type": "display_data"
    }
   ],
   "source": [
    "plt.style.use(\"ggplot\")\n",
    "plt.figure(figsize=(10, 6))\n",
    "plt.title(\"Cumulative explained variance with PCA\", fontsize=20)\n",
    "plt.xlabel(\"# Featuers\", fontsize=16)\n",
    "plt.ylabel(\"Cumulative explained variance\", fontsize=16)\n",
    "plt.xticks(fontsize=12)\n",
    "plt.yticks(fontsize=12)\n",
    "plt.plot(var)"
   ]
  },
  {
   "cell_type": "markdown",
   "metadata": {},
   "source": [
    "#### It seems that we cna explain 366 variables by only 100 new one "
   ]
  },
  {
   "cell_type": "code",
   "execution_count": 298,
   "metadata": {},
   "outputs": [
    {
     "data": {
      "text/plain": [
       "(8418, 100)"
      ]
     },
     "execution_count": 298,
     "metadata": {},
     "output_type": "execute_result"
    }
   ],
   "source": [
    "principalComponents[:,:100].shape"
   ]
  },
  {
   "cell_type": "code",
   "execution_count": 299,
   "metadata": {},
   "outputs": [],
   "source": [
    "principalDf = pd.DataFrame(\n",
    "    data=principalComponents[:, :100], columns=[\"PC{}\".format(i) for i in range(1, 101)]\n",
    ")"
   ]
  },
  {
   "cell_type": "code",
   "execution_count": 300,
   "metadata": {},
   "outputs": [
    {
     "data": {
      "text/plain": [
       "(8418, 100)"
      ]
     },
     "execution_count": 300,
     "metadata": {},
     "output_type": "execute_result"
    }
   ],
   "source": [
    "principalDf.shape"
   ]
  },
  {
   "cell_type": "code",
   "execution_count": 301,
   "metadata": {},
   "outputs": [
    {
     "data": {
      "text/html": [
       "<div>\n",
       "<style scoped>\n",
       "    .dataframe tbody tr th:only-of-type {\n",
       "        vertical-align: middle;\n",
       "    }\n",
       "\n",
       "    .dataframe tbody tr th {\n",
       "        vertical-align: top;\n",
       "    }\n",
       "\n",
       "    .dataframe thead th {\n",
       "        text-align: right;\n",
       "    }\n",
       "</style>\n",
       "<table border=\"1\" class=\"dataframe\">\n",
       "  <thead>\n",
       "    <tr style=\"text-align: right;\">\n",
       "      <th></th>\n",
       "      <th>PC1</th>\n",
       "      <th>PC2</th>\n",
       "      <th>PC3</th>\n",
       "      <th>PC4</th>\n",
       "      <th>PC5</th>\n",
       "      <th>PC6</th>\n",
       "      <th>PC7</th>\n",
       "      <th>PC8</th>\n",
       "      <th>PC9</th>\n",
       "      <th>PC10</th>\n",
       "      <th>...</th>\n",
       "      <th>PC91</th>\n",
       "      <th>PC92</th>\n",
       "      <th>PC93</th>\n",
       "      <th>PC94</th>\n",
       "      <th>PC95</th>\n",
       "      <th>PC96</th>\n",
       "      <th>PC97</th>\n",
       "      <th>PC98</th>\n",
       "      <th>PC99</th>\n",
       "      <th>PC100</th>\n",
       "    </tr>\n",
       "  </thead>\n",
       "  <tbody>\n",
       "    <tr>\n",
       "      <th>0</th>\n",
       "      <td>0.717951</td>\n",
       "      <td>2.261372</td>\n",
       "      <td>-1.075744</td>\n",
       "      <td>0.942154</td>\n",
       "      <td>1.223198</td>\n",
       "      <td>-0.059235</td>\n",
       "      <td>0.597748</td>\n",
       "      <td>-0.915438</td>\n",
       "      <td>0.079418</td>\n",
       "      <td>-0.666961</td>\n",
       "      <td>...</td>\n",
       "      <td>0.193173</td>\n",
       "      <td>-0.128277</td>\n",
       "      <td>-0.448257</td>\n",
       "      <td>0.261121</td>\n",
       "      <td>-0.378422</td>\n",
       "      <td>-0.097249</td>\n",
       "      <td>0.173570</td>\n",
       "      <td>-0.432901</td>\n",
       "      <td>0.518172</td>\n",
       "      <td>-0.184147</td>\n",
       "    </tr>\n",
       "    <tr>\n",
       "      <th>1</th>\n",
       "      <td>-0.167951</td>\n",
       "      <td>0.086776</td>\n",
       "      <td>-1.362879</td>\n",
       "      <td>-0.681619</td>\n",
       "      <td>0.113824</td>\n",
       "      <td>-0.029079</td>\n",
       "      <td>1.249609</td>\n",
       "      <td>-0.506130</td>\n",
       "      <td>-0.122325</td>\n",
       "      <td>0.467179</td>\n",
       "      <td>...</td>\n",
       "      <td>0.004307</td>\n",
       "      <td>0.063464</td>\n",
       "      <td>-0.177404</td>\n",
       "      <td>-0.308979</td>\n",
       "      <td>-0.326524</td>\n",
       "      <td>0.175706</td>\n",
       "      <td>-0.012268</td>\n",
       "      <td>-0.075393</td>\n",
       "      <td>-0.129021</td>\n",
       "      <td>-0.200998</td>\n",
       "    </tr>\n",
       "    <tr>\n",
       "      <th>2</th>\n",
       "      <td>-0.838104</td>\n",
       "      <td>2.166248</td>\n",
       "      <td>-2.132233</td>\n",
       "      <td>2.307177</td>\n",
       "      <td>-1.005637</td>\n",
       "      <td>3.475150</td>\n",
       "      <td>-0.848841</td>\n",
       "      <td>0.497725</td>\n",
       "      <td>-1.030428</td>\n",
       "      <td>-0.198819</td>\n",
       "      <td>...</td>\n",
       "      <td>-0.292925</td>\n",
       "      <td>0.450548</td>\n",
       "      <td>0.157809</td>\n",
       "      <td>-0.128163</td>\n",
       "      <td>1.026742</td>\n",
       "      <td>-0.597846</td>\n",
       "      <td>-0.039480</td>\n",
       "      <td>0.329075</td>\n",
       "      <td>-0.345632</td>\n",
       "      <td>0.195720</td>\n",
       "    </tr>\n",
       "    <tr>\n",
       "      <th>3</th>\n",
       "      <td>-0.437887</td>\n",
       "      <td>1.129920</td>\n",
       "      <td>-2.239765</td>\n",
       "      <td>2.670459</td>\n",
       "      <td>-1.764832</td>\n",
       "      <td>3.345078</td>\n",
       "      <td>0.150580</td>\n",
       "      <td>-0.030701</td>\n",
       "      <td>-1.107734</td>\n",
       "      <td>0.116922</td>\n",
       "      <td>...</td>\n",
       "      <td>0.027857</td>\n",
       "      <td>-0.052338</td>\n",
       "      <td>0.071269</td>\n",
       "      <td>-0.187180</td>\n",
       "      <td>0.103379</td>\n",
       "      <td>-0.216673</td>\n",
       "      <td>0.306872</td>\n",
       "      <td>0.101847</td>\n",
       "      <td>-0.220385</td>\n",
       "      <td>0.311627</td>\n",
       "    </tr>\n",
       "    <tr>\n",
       "      <th>4</th>\n",
       "      <td>-0.420940</td>\n",
       "      <td>0.880172</td>\n",
       "      <td>-2.147508</td>\n",
       "      <td>2.855561</td>\n",
       "      <td>-2.083166</td>\n",
       "      <td>3.374394</td>\n",
       "      <td>-0.098551</td>\n",
       "      <td>0.122238</td>\n",
       "      <td>-1.870083</td>\n",
       "      <td>-0.425676</td>\n",
       "      <td>...</td>\n",
       "      <td>-0.061144</td>\n",
       "      <td>0.025249</td>\n",
       "      <td>0.141818</td>\n",
       "      <td>-0.304652</td>\n",
       "      <td>0.138629</td>\n",
       "      <td>-0.184040</td>\n",
       "      <td>0.098136</td>\n",
       "      <td>0.025273</td>\n",
       "      <td>-0.188131</td>\n",
       "      <td>0.130438</td>\n",
       "    </tr>\n",
       "  </tbody>\n",
       "</table>\n",
       "<p>5 rows × 100 columns</p>\n",
       "</div>"
      ],
      "text/plain": [
       "        PC1       PC2       PC3       PC4       PC5       PC6       PC7  \\\n",
       "0  0.717951  2.261372 -1.075744  0.942154  1.223198 -0.059235  0.597748   \n",
       "1 -0.167951  0.086776 -1.362879 -0.681619  0.113824 -0.029079  1.249609   \n",
       "2 -0.838104  2.166248 -2.132233  2.307177 -1.005637  3.475150 -0.848841   \n",
       "3 -0.437887  1.129920 -2.239765  2.670459 -1.764832  3.345078  0.150580   \n",
       "4 -0.420940  0.880172 -2.147508  2.855561 -2.083166  3.374394 -0.098551   \n",
       "\n",
       "        PC8       PC9      PC10    ...         PC91      PC92      PC93  \\\n",
       "0 -0.915438  0.079418 -0.666961    ...     0.193173 -0.128277 -0.448257   \n",
       "1 -0.506130 -0.122325  0.467179    ...     0.004307  0.063464 -0.177404   \n",
       "2  0.497725 -1.030428 -0.198819    ...    -0.292925  0.450548  0.157809   \n",
       "3 -0.030701 -1.107734  0.116922    ...     0.027857 -0.052338  0.071269   \n",
       "4  0.122238 -1.870083 -0.425676    ...    -0.061144  0.025249  0.141818   \n",
       "\n",
       "       PC94      PC95      PC96      PC97      PC98      PC99     PC100  \n",
       "0  0.261121 -0.378422 -0.097249  0.173570 -0.432901  0.518172 -0.184147  \n",
       "1 -0.308979 -0.326524  0.175706 -0.012268 -0.075393 -0.129021 -0.200998  \n",
       "2 -0.128163  1.026742 -0.597846 -0.039480  0.329075 -0.345632  0.195720  \n",
       "3 -0.187180  0.103379 -0.216673  0.306872  0.101847 -0.220385  0.311627  \n",
       "4 -0.304652  0.138629 -0.184040  0.098136  0.025273 -0.188131  0.130438  \n",
       "\n",
       "[5 rows x 100 columns]"
      ]
     },
     "execution_count": 301,
     "metadata": {},
     "output_type": "execute_result"
    }
   ],
   "source": [
    "principalDf.head()"
   ]
  },
  {
   "cell_type": "code",
   "execution_count": 302,
   "metadata": {},
   "outputs": [
    {
     "data": {
      "text/html": [
       "<div>\n",
       "<style scoped>\n",
       "    .dataframe tbody tr th:only-of-type {\n",
       "        vertical-align: middle;\n",
       "    }\n",
       "\n",
       "    .dataframe tbody tr th {\n",
       "        vertical-align: top;\n",
       "    }\n",
       "\n",
       "    .dataframe thead th {\n",
       "        text-align: right;\n",
       "    }\n",
       "</style>\n",
       "<table border=\"1\" class=\"dataframe\">\n",
       "  <thead>\n",
       "    <tr style=\"text-align: right;\">\n",
       "      <th></th>\n",
       "      <th>X0</th>\n",
       "      <th>X1</th>\n",
       "      <th>X2</th>\n",
       "      <th>X4</th>\n",
       "      <th>X6</th>\n",
       "    </tr>\n",
       "  </thead>\n",
       "  <tbody>\n",
       "    <tr>\n",
       "      <th>0</th>\n",
       "      <td>d</td>\n",
       "      <td>c</td>\n",
       "      <td>d</td>\n",
       "      <td>d</td>\n",
       "      <td>j</td>\n",
       "    </tr>\n",
       "    <tr>\n",
       "      <th>1</th>\n",
       "      <td>d</td>\n",
       "      <td>b</td>\n",
       "      <td>c</td>\n",
       "      <td>d</td>\n",
       "      <td>l</td>\n",
       "    </tr>\n",
       "    <tr>\n",
       "      <th>2</th>\n",
       "      <td>a</td>\n",
       "      <td>b</td>\n",
       "      <td>a</td>\n",
       "      <td>d</td>\n",
       "      <td>j</td>\n",
       "    </tr>\n",
       "    <tr>\n",
       "      <th>3</th>\n",
       "      <td>a</td>\n",
       "      <td>b</td>\n",
       "      <td>a</td>\n",
       "      <td>d</td>\n",
       "      <td>l</td>\n",
       "    </tr>\n",
       "    <tr>\n",
       "      <th>4</th>\n",
       "      <td>a</td>\n",
       "      <td>c</td>\n",
       "      <td>a</td>\n",
       "      <td>d</td>\n",
       "      <td>d</td>\n",
       "    </tr>\n",
       "  </tbody>\n",
       "</table>\n",
       "</div>"
      ],
      "text/plain": [
       "  X0 X1 X2 X4 X6\n",
       "0  d  c  d  d  j\n",
       "1  d  b  c  d  l\n",
       "2  a  b  a  d  j\n",
       "3  a  b  a  d  l\n",
       "4  a  c  a  d  d"
      ]
     },
     "execution_count": 302,
     "metadata": {},
     "output_type": "execute_result"
    }
   ],
   "source": [
    "categorical_features = df.select_dtypes(\"category\")\n",
    "categorical_features.head()"
   ]
  },
  {
   "cell_type": "code",
   "execution_count": 303,
   "metadata": {},
   "outputs": [
    {
     "data": {
      "text/html": [
       "<div>\n",
       "<style scoped>\n",
       "    .dataframe tbody tr th:only-of-type {\n",
       "        vertical-align: middle;\n",
       "    }\n",
       "\n",
       "    .dataframe tbody tr th {\n",
       "        vertical-align: top;\n",
       "    }\n",
       "\n",
       "    .dataframe thead th {\n",
       "        text-align: right;\n",
       "    }\n",
       "</style>\n",
       "<table border=\"1\" class=\"dataframe\">\n",
       "  <thead>\n",
       "    <tr style=\"text-align: right;\">\n",
       "      <th></th>\n",
       "      <th>ID</th>\n",
       "      <th>y</th>\n",
       "    </tr>\n",
       "  </thead>\n",
       "  <tbody>\n",
       "    <tr>\n",
       "      <th>0</th>\n",
       "      <td>0</td>\n",
       "      <td>130.81</td>\n",
       "    </tr>\n",
       "    <tr>\n",
       "      <th>1</th>\n",
       "      <td>6</td>\n",
       "      <td>88.53</td>\n",
       "    </tr>\n",
       "    <tr>\n",
       "      <th>2</th>\n",
       "      <td>7</td>\n",
       "      <td>76.26</td>\n",
       "    </tr>\n",
       "    <tr>\n",
       "      <th>3</th>\n",
       "      <td>9</td>\n",
       "      <td>80.62</td>\n",
       "    </tr>\n",
       "    <tr>\n",
       "      <th>4</th>\n",
       "      <td>13</td>\n",
       "      <td>78.02</td>\n",
       "    </tr>\n",
       "  </tbody>\n",
       "</table>\n",
       "</div>"
      ],
      "text/plain": [
       "   ID       y\n",
       "0   0  130.81\n",
       "1   6   88.53\n",
       "2   7   76.26\n",
       "3   9   80.62\n",
       "4  13   78.02"
      ]
     },
     "execution_count": 303,
     "metadata": {},
     "output_type": "execute_result"
    }
   ],
   "source": [
    "dummy = df[[\"ID\", \"y\"]]\n",
    "dummy.head()"
   ]
  },
  {
   "cell_type": "code",
   "execution_count": 304,
   "metadata": {},
   "outputs": [],
   "source": [
    "df_merged = pd.concat([dummy, categorical_features], axis=1)"
   ]
  },
  {
   "cell_type": "code",
   "execution_count": 241,
   "metadata": {},
   "outputs": [
    {
     "data": {
      "text/html": [
       "<div>\n",
       "<style scoped>\n",
       "    .dataframe tbody tr th:only-of-type {\n",
       "        vertical-align: middle;\n",
       "    }\n",
       "\n",
       "    .dataframe tbody tr th {\n",
       "        vertical-align: top;\n",
       "    }\n",
       "\n",
       "    .dataframe thead th {\n",
       "        text-align: right;\n",
       "    }\n",
       "</style>\n",
       "<table border=\"1\" class=\"dataframe\">\n",
       "  <thead>\n",
       "    <tr style=\"text-align: right;\">\n",
       "      <th></th>\n",
       "      <th>ID</th>\n",
       "      <th>y</th>\n",
       "      <th>X0</th>\n",
       "      <th>X1</th>\n",
       "      <th>X2</th>\n",
       "      <th>X4</th>\n",
       "      <th>X6</th>\n",
       "    </tr>\n",
       "  </thead>\n",
       "  <tbody>\n",
       "    <tr>\n",
       "      <th>0</th>\n",
       "      <td>0</td>\n",
       "      <td>130.81</td>\n",
       "      <td>d</td>\n",
       "      <td>v</td>\n",
       "      <td>d</td>\n",
       "      <td>d</td>\n",
       "      <td>j</td>\n",
       "    </tr>\n",
       "    <tr>\n",
       "      <th>1</th>\n",
       "      <td>6</td>\n",
       "      <td>88.53</td>\n",
       "      <td>d</td>\n",
       "      <td>t</td>\n",
       "      <td>c</td>\n",
       "      <td>d</td>\n",
       "      <td>l</td>\n",
       "    </tr>\n",
       "    <tr>\n",
       "      <th>2</th>\n",
       "      <td>7</td>\n",
       "      <td>76.26</td>\n",
       "      <td>a</td>\n",
       "      <td>w</td>\n",
       "      <td>a</td>\n",
       "      <td>d</td>\n",
       "      <td>j</td>\n",
       "    </tr>\n",
       "    <tr>\n",
       "      <th>3</th>\n",
       "      <td>9</td>\n",
       "      <td>80.62</td>\n",
       "      <td>a</td>\n",
       "      <td>t</td>\n",
       "      <td>a</td>\n",
       "      <td>d</td>\n",
       "      <td>l</td>\n",
       "    </tr>\n",
       "    <tr>\n",
       "      <th>4</th>\n",
       "      <td>13</td>\n",
       "      <td>78.02</td>\n",
       "      <td>a</td>\n",
       "      <td>v</td>\n",
       "      <td>a</td>\n",
       "      <td>d</td>\n",
       "      <td>d</td>\n",
       "    </tr>\n",
       "  </tbody>\n",
       "</table>\n",
       "</div>"
      ],
      "text/plain": [
       "   ID       y X0 X1 X2 X4 X6\n",
       "0   0  130.81  d  v  d  d  j\n",
       "1   6   88.53  d  t  c  d  l\n",
       "2   7   76.26  a  w  a  d  j\n",
       "3   9   80.62  a  t  a  d  l\n",
       "4  13   78.02  a  v  a  d  d"
      ]
     },
     "execution_count": 241,
     "metadata": {},
     "output_type": "execute_result"
    }
   ],
   "source": [
    "df_merged.head()"
   ]
  },
  {
   "cell_type": "code",
   "execution_count": 324,
   "metadata": {},
   "outputs": [
    {
     "data": {
      "text/plain": [
       "ID    8418\n",
       "y     2546\n",
       "X0      13\n",
       "X1       3\n",
       "X2      14\n",
       "X4       4\n",
       "X6      12\n",
       "dtype: int64"
      ]
     },
     "execution_count": 324,
     "metadata": {},
     "output_type": "execute_result"
    }
   ],
   "source": [
    "df_merged.nunique()"
   ]
  },
  {
   "cell_type": "code",
   "execution_count": 243,
   "metadata": {},
   "outputs": [
    {
     "data": {
      "text/plain": [
       "(8418, 7)"
      ]
     },
     "execution_count": 243,
     "metadata": {},
     "output_type": "execute_result"
    }
   ],
   "source": [
    "df_merged.shape"
   ]
  },
  {
   "cell_type": "code",
   "execution_count": 244,
   "metadata": {},
   "outputs": [
    {
     "data": {
      "text/plain": [
       "(8418, 100)"
      ]
     },
     "execution_count": 244,
     "metadata": {},
     "output_type": "execute_result"
    }
   ],
   "source": [
    "principalDf.shape"
   ]
  },
  {
   "cell_type": "code",
   "execution_count": 305,
   "metadata": {},
   "outputs": [],
   "source": [
    "df_merged.reset_index(drop=True,inplace=True)"
   ]
  },
  {
   "cell_type": "code",
   "execution_count": 246,
   "metadata": {},
   "outputs": [
    {
     "data": {
      "text/html": [
       "<div>\n",
       "<style scoped>\n",
       "    .dataframe tbody tr th:only-of-type {\n",
       "        vertical-align: middle;\n",
       "    }\n",
       "\n",
       "    .dataframe tbody tr th {\n",
       "        vertical-align: top;\n",
       "    }\n",
       "\n",
       "    .dataframe thead th {\n",
       "        text-align: right;\n",
       "    }\n",
       "</style>\n",
       "<table border=\"1\" class=\"dataframe\">\n",
       "  <thead>\n",
       "    <tr style=\"text-align: right;\">\n",
       "      <th></th>\n",
       "      <th>ID</th>\n",
       "      <th>y</th>\n",
       "      <th>X0</th>\n",
       "      <th>X1</th>\n",
       "      <th>X2</th>\n",
       "      <th>X4</th>\n",
       "      <th>X6</th>\n",
       "    </tr>\n",
       "  </thead>\n",
       "  <tbody>\n",
       "    <tr>\n",
       "      <th>0</th>\n",
       "      <td>0</td>\n",
       "      <td>130.81</td>\n",
       "      <td>d</td>\n",
       "      <td>v</td>\n",
       "      <td>d</td>\n",
       "      <td>d</td>\n",
       "      <td>j</td>\n",
       "    </tr>\n",
       "    <tr>\n",
       "      <th>1</th>\n",
       "      <td>6</td>\n",
       "      <td>88.53</td>\n",
       "      <td>d</td>\n",
       "      <td>t</td>\n",
       "      <td>c</td>\n",
       "      <td>d</td>\n",
       "      <td>l</td>\n",
       "    </tr>\n",
       "    <tr>\n",
       "      <th>2</th>\n",
       "      <td>7</td>\n",
       "      <td>76.26</td>\n",
       "      <td>a</td>\n",
       "      <td>w</td>\n",
       "      <td>a</td>\n",
       "      <td>d</td>\n",
       "      <td>j</td>\n",
       "    </tr>\n",
       "    <tr>\n",
       "      <th>3</th>\n",
       "      <td>9</td>\n",
       "      <td>80.62</td>\n",
       "      <td>a</td>\n",
       "      <td>t</td>\n",
       "      <td>a</td>\n",
       "      <td>d</td>\n",
       "      <td>l</td>\n",
       "    </tr>\n",
       "    <tr>\n",
       "      <th>4</th>\n",
       "      <td>13</td>\n",
       "      <td>78.02</td>\n",
       "      <td>a</td>\n",
       "      <td>v</td>\n",
       "      <td>a</td>\n",
       "      <td>d</td>\n",
       "      <td>d</td>\n",
       "    </tr>\n",
       "  </tbody>\n",
       "</table>\n",
       "</div>"
      ],
      "text/plain": [
       "   ID       y X0 X1 X2 X4 X6\n",
       "0   0  130.81  d  v  d  d  j\n",
       "1   6   88.53  d  t  c  d  l\n",
       "2   7   76.26  a  w  a  d  j\n",
       "3   9   80.62  a  t  a  d  l\n",
       "4  13   78.02  a  v  a  d  d"
      ]
     },
     "execution_count": 246,
     "metadata": {},
     "output_type": "execute_result"
    }
   ],
   "source": [
    "df_merged.head()"
   ]
  },
  {
   "cell_type": "code",
   "execution_count": 306,
   "metadata": {},
   "outputs": [
    {
     "data": {
      "text/html": [
       "<div>\n",
       "<style scoped>\n",
       "    .dataframe tbody tr th:only-of-type {\n",
       "        vertical-align: middle;\n",
       "    }\n",
       "\n",
       "    .dataframe tbody tr th {\n",
       "        vertical-align: top;\n",
       "    }\n",
       "\n",
       "    .dataframe thead th {\n",
       "        text-align: right;\n",
       "    }\n",
       "</style>\n",
       "<table border=\"1\" class=\"dataframe\">\n",
       "  <thead>\n",
       "    <tr style=\"text-align: right;\">\n",
       "      <th></th>\n",
       "      <th>PC1</th>\n",
       "      <th>PC2</th>\n",
       "      <th>PC3</th>\n",
       "      <th>PC4</th>\n",
       "      <th>PC5</th>\n",
       "      <th>PC6</th>\n",
       "      <th>PC7</th>\n",
       "      <th>PC8</th>\n",
       "      <th>PC9</th>\n",
       "      <th>PC10</th>\n",
       "      <th>...</th>\n",
       "      <th>PC91</th>\n",
       "      <th>PC92</th>\n",
       "      <th>PC93</th>\n",
       "      <th>PC94</th>\n",
       "      <th>PC95</th>\n",
       "      <th>PC96</th>\n",
       "      <th>PC97</th>\n",
       "      <th>PC98</th>\n",
       "      <th>PC99</th>\n",
       "      <th>PC100</th>\n",
       "    </tr>\n",
       "  </thead>\n",
       "  <tbody>\n",
       "    <tr>\n",
       "      <th>0</th>\n",
       "      <td>0.717951</td>\n",
       "      <td>2.261372</td>\n",
       "      <td>-1.075744</td>\n",
       "      <td>0.942154</td>\n",
       "      <td>1.223198</td>\n",
       "      <td>-0.059235</td>\n",
       "      <td>0.597748</td>\n",
       "      <td>-0.915438</td>\n",
       "      <td>0.079418</td>\n",
       "      <td>-0.666961</td>\n",
       "      <td>...</td>\n",
       "      <td>0.193173</td>\n",
       "      <td>-0.128277</td>\n",
       "      <td>-0.448257</td>\n",
       "      <td>0.261121</td>\n",
       "      <td>-0.378422</td>\n",
       "      <td>-0.097249</td>\n",
       "      <td>0.173570</td>\n",
       "      <td>-0.432901</td>\n",
       "      <td>0.518172</td>\n",
       "      <td>-0.184147</td>\n",
       "    </tr>\n",
       "    <tr>\n",
       "      <th>1</th>\n",
       "      <td>-0.167951</td>\n",
       "      <td>0.086776</td>\n",
       "      <td>-1.362879</td>\n",
       "      <td>-0.681619</td>\n",
       "      <td>0.113824</td>\n",
       "      <td>-0.029079</td>\n",
       "      <td>1.249609</td>\n",
       "      <td>-0.506130</td>\n",
       "      <td>-0.122325</td>\n",
       "      <td>0.467179</td>\n",
       "      <td>...</td>\n",
       "      <td>0.004307</td>\n",
       "      <td>0.063464</td>\n",
       "      <td>-0.177404</td>\n",
       "      <td>-0.308979</td>\n",
       "      <td>-0.326524</td>\n",
       "      <td>0.175706</td>\n",
       "      <td>-0.012268</td>\n",
       "      <td>-0.075393</td>\n",
       "      <td>-0.129021</td>\n",
       "      <td>-0.200998</td>\n",
       "    </tr>\n",
       "    <tr>\n",
       "      <th>2</th>\n",
       "      <td>-0.838104</td>\n",
       "      <td>2.166248</td>\n",
       "      <td>-2.132233</td>\n",
       "      <td>2.307177</td>\n",
       "      <td>-1.005637</td>\n",
       "      <td>3.475150</td>\n",
       "      <td>-0.848841</td>\n",
       "      <td>0.497725</td>\n",
       "      <td>-1.030428</td>\n",
       "      <td>-0.198819</td>\n",
       "      <td>...</td>\n",
       "      <td>-0.292925</td>\n",
       "      <td>0.450548</td>\n",
       "      <td>0.157809</td>\n",
       "      <td>-0.128163</td>\n",
       "      <td>1.026742</td>\n",
       "      <td>-0.597846</td>\n",
       "      <td>-0.039480</td>\n",
       "      <td>0.329075</td>\n",
       "      <td>-0.345632</td>\n",
       "      <td>0.195720</td>\n",
       "    </tr>\n",
       "    <tr>\n",
       "      <th>3</th>\n",
       "      <td>-0.437887</td>\n",
       "      <td>1.129920</td>\n",
       "      <td>-2.239765</td>\n",
       "      <td>2.670459</td>\n",
       "      <td>-1.764832</td>\n",
       "      <td>3.345078</td>\n",
       "      <td>0.150580</td>\n",
       "      <td>-0.030701</td>\n",
       "      <td>-1.107734</td>\n",
       "      <td>0.116922</td>\n",
       "      <td>...</td>\n",
       "      <td>0.027857</td>\n",
       "      <td>-0.052338</td>\n",
       "      <td>0.071269</td>\n",
       "      <td>-0.187180</td>\n",
       "      <td>0.103379</td>\n",
       "      <td>-0.216673</td>\n",
       "      <td>0.306872</td>\n",
       "      <td>0.101847</td>\n",
       "      <td>-0.220385</td>\n",
       "      <td>0.311627</td>\n",
       "    </tr>\n",
       "    <tr>\n",
       "      <th>4</th>\n",
       "      <td>-0.420940</td>\n",
       "      <td>0.880172</td>\n",
       "      <td>-2.147508</td>\n",
       "      <td>2.855561</td>\n",
       "      <td>-2.083166</td>\n",
       "      <td>3.374394</td>\n",
       "      <td>-0.098551</td>\n",
       "      <td>0.122238</td>\n",
       "      <td>-1.870083</td>\n",
       "      <td>-0.425676</td>\n",
       "      <td>...</td>\n",
       "      <td>-0.061144</td>\n",
       "      <td>0.025249</td>\n",
       "      <td>0.141818</td>\n",
       "      <td>-0.304652</td>\n",
       "      <td>0.138629</td>\n",
       "      <td>-0.184040</td>\n",
       "      <td>0.098136</td>\n",
       "      <td>0.025273</td>\n",
       "      <td>-0.188131</td>\n",
       "      <td>0.130438</td>\n",
       "    </tr>\n",
       "  </tbody>\n",
       "</table>\n",
       "<p>5 rows × 100 columns</p>\n",
       "</div>"
      ],
      "text/plain": [
       "        PC1       PC2       PC3       PC4       PC5       PC6       PC7  \\\n",
       "0  0.717951  2.261372 -1.075744  0.942154  1.223198 -0.059235  0.597748   \n",
       "1 -0.167951  0.086776 -1.362879 -0.681619  0.113824 -0.029079  1.249609   \n",
       "2 -0.838104  2.166248 -2.132233  2.307177 -1.005637  3.475150 -0.848841   \n",
       "3 -0.437887  1.129920 -2.239765  2.670459 -1.764832  3.345078  0.150580   \n",
       "4 -0.420940  0.880172 -2.147508  2.855561 -2.083166  3.374394 -0.098551   \n",
       "\n",
       "        PC8       PC9      PC10    ...         PC91      PC92      PC93  \\\n",
       "0 -0.915438  0.079418 -0.666961    ...     0.193173 -0.128277 -0.448257   \n",
       "1 -0.506130 -0.122325  0.467179    ...     0.004307  0.063464 -0.177404   \n",
       "2  0.497725 -1.030428 -0.198819    ...    -0.292925  0.450548  0.157809   \n",
       "3 -0.030701 -1.107734  0.116922    ...     0.027857 -0.052338  0.071269   \n",
       "4  0.122238 -1.870083 -0.425676    ...    -0.061144  0.025249  0.141818   \n",
       "\n",
       "       PC94      PC95      PC96      PC97      PC98      PC99     PC100  \n",
       "0  0.261121 -0.378422 -0.097249  0.173570 -0.432901  0.518172 -0.184147  \n",
       "1 -0.308979 -0.326524  0.175706 -0.012268 -0.075393 -0.129021 -0.200998  \n",
       "2 -0.128163  1.026742 -0.597846 -0.039480  0.329075 -0.345632  0.195720  \n",
       "3 -0.187180  0.103379 -0.216673  0.306872  0.101847 -0.220385  0.311627  \n",
       "4 -0.304652  0.138629 -0.184040  0.098136  0.025273 -0.188131  0.130438  \n",
       "\n",
       "[5 rows x 100 columns]"
      ]
     },
     "execution_count": 306,
     "metadata": {},
     "output_type": "execute_result"
    }
   ],
   "source": [
    "principalDf.reset_index(drop=True, inplace=True)\n",
    "principalDf.head()"
   ]
  },
  {
   "cell_type": "code",
   "execution_count": 307,
   "metadata": {},
   "outputs": [],
   "source": [
    "df = pd.concat([df_merged, principalDf], axis=1)"
   ]
  },
  {
   "cell_type": "code",
   "execution_count": 249,
   "metadata": {},
   "outputs": [
    {
     "data": {
      "text/html": [
       "<div>\n",
       "<style scoped>\n",
       "    .dataframe tbody tr th:only-of-type {\n",
       "        vertical-align: middle;\n",
       "    }\n",
       "\n",
       "    .dataframe tbody tr th {\n",
       "        vertical-align: top;\n",
       "    }\n",
       "\n",
       "    .dataframe thead th {\n",
       "        text-align: right;\n",
       "    }\n",
       "</style>\n",
       "<table border=\"1\" class=\"dataframe\">\n",
       "  <thead>\n",
       "    <tr style=\"text-align: right;\">\n",
       "      <th></th>\n",
       "      <th>ID</th>\n",
       "      <th>y</th>\n",
       "      <th>X0</th>\n",
       "      <th>X1</th>\n",
       "      <th>X2</th>\n",
       "      <th>X4</th>\n",
       "      <th>X6</th>\n",
       "      <th>PC1</th>\n",
       "      <th>PC2</th>\n",
       "      <th>PC3</th>\n",
       "      <th>...</th>\n",
       "      <th>PC91</th>\n",
       "      <th>PC92</th>\n",
       "      <th>PC93</th>\n",
       "      <th>PC94</th>\n",
       "      <th>PC95</th>\n",
       "      <th>PC96</th>\n",
       "      <th>PC97</th>\n",
       "      <th>PC98</th>\n",
       "      <th>PC99</th>\n",
       "      <th>PC100</th>\n",
       "    </tr>\n",
       "  </thead>\n",
       "  <tbody>\n",
       "    <tr>\n",
       "      <th>0</th>\n",
       "      <td>0</td>\n",
       "      <td>130.81</td>\n",
       "      <td>d</td>\n",
       "      <td>v</td>\n",
       "      <td>d</td>\n",
       "      <td>d</td>\n",
       "      <td>j</td>\n",
       "      <td>0.717951</td>\n",
       "      <td>2.261372</td>\n",
       "      <td>-1.075744</td>\n",
       "      <td>...</td>\n",
       "      <td>0.193173</td>\n",
       "      <td>-0.128277</td>\n",
       "      <td>-0.448257</td>\n",
       "      <td>0.261121</td>\n",
       "      <td>-0.378422</td>\n",
       "      <td>-0.097249</td>\n",
       "      <td>0.173570</td>\n",
       "      <td>-0.432901</td>\n",
       "      <td>0.518172</td>\n",
       "      <td>-0.184147</td>\n",
       "    </tr>\n",
       "    <tr>\n",
       "      <th>1</th>\n",
       "      <td>6</td>\n",
       "      <td>88.53</td>\n",
       "      <td>d</td>\n",
       "      <td>t</td>\n",
       "      <td>c</td>\n",
       "      <td>d</td>\n",
       "      <td>l</td>\n",
       "      <td>-0.167951</td>\n",
       "      <td>0.086776</td>\n",
       "      <td>-1.362879</td>\n",
       "      <td>...</td>\n",
       "      <td>0.004307</td>\n",
       "      <td>0.063464</td>\n",
       "      <td>-0.177404</td>\n",
       "      <td>-0.308979</td>\n",
       "      <td>-0.326524</td>\n",
       "      <td>0.175706</td>\n",
       "      <td>-0.012268</td>\n",
       "      <td>-0.075393</td>\n",
       "      <td>-0.129021</td>\n",
       "      <td>-0.200998</td>\n",
       "    </tr>\n",
       "    <tr>\n",
       "      <th>2</th>\n",
       "      <td>7</td>\n",
       "      <td>76.26</td>\n",
       "      <td>a</td>\n",
       "      <td>w</td>\n",
       "      <td>a</td>\n",
       "      <td>d</td>\n",
       "      <td>j</td>\n",
       "      <td>-0.838104</td>\n",
       "      <td>2.166248</td>\n",
       "      <td>-2.132233</td>\n",
       "      <td>...</td>\n",
       "      <td>-0.292925</td>\n",
       "      <td>0.450548</td>\n",
       "      <td>0.157809</td>\n",
       "      <td>-0.128163</td>\n",
       "      <td>1.026742</td>\n",
       "      <td>-0.597846</td>\n",
       "      <td>-0.039480</td>\n",
       "      <td>0.329075</td>\n",
       "      <td>-0.345632</td>\n",
       "      <td>0.195720</td>\n",
       "    </tr>\n",
       "    <tr>\n",
       "      <th>3</th>\n",
       "      <td>9</td>\n",
       "      <td>80.62</td>\n",
       "      <td>a</td>\n",
       "      <td>t</td>\n",
       "      <td>a</td>\n",
       "      <td>d</td>\n",
       "      <td>l</td>\n",
       "      <td>-0.437887</td>\n",
       "      <td>1.129920</td>\n",
       "      <td>-2.239765</td>\n",
       "      <td>...</td>\n",
       "      <td>0.027857</td>\n",
       "      <td>-0.052338</td>\n",
       "      <td>0.071269</td>\n",
       "      <td>-0.187180</td>\n",
       "      <td>0.103379</td>\n",
       "      <td>-0.216673</td>\n",
       "      <td>0.306872</td>\n",
       "      <td>0.101847</td>\n",
       "      <td>-0.220385</td>\n",
       "      <td>0.311627</td>\n",
       "    </tr>\n",
       "    <tr>\n",
       "      <th>4</th>\n",
       "      <td>13</td>\n",
       "      <td>78.02</td>\n",
       "      <td>a</td>\n",
       "      <td>v</td>\n",
       "      <td>a</td>\n",
       "      <td>d</td>\n",
       "      <td>d</td>\n",
       "      <td>-0.420940</td>\n",
       "      <td>0.880172</td>\n",
       "      <td>-2.147508</td>\n",
       "      <td>...</td>\n",
       "      <td>-0.061144</td>\n",
       "      <td>0.025249</td>\n",
       "      <td>0.141818</td>\n",
       "      <td>-0.304652</td>\n",
       "      <td>0.138629</td>\n",
       "      <td>-0.184040</td>\n",
       "      <td>0.098136</td>\n",
       "      <td>0.025273</td>\n",
       "      <td>-0.188131</td>\n",
       "      <td>0.130438</td>\n",
       "    </tr>\n",
       "  </tbody>\n",
       "</table>\n",
       "<p>5 rows × 107 columns</p>\n",
       "</div>"
      ],
      "text/plain": [
       "   ID       y X0 X1 X2 X4 X6       PC1       PC2       PC3    ...     \\\n",
       "0   0  130.81  d  v  d  d  j  0.717951  2.261372 -1.075744    ...      \n",
       "1   6   88.53  d  t  c  d  l -0.167951  0.086776 -1.362879    ...      \n",
       "2   7   76.26  a  w  a  d  j -0.838104  2.166248 -2.132233    ...      \n",
       "3   9   80.62  a  t  a  d  l -0.437887  1.129920 -2.239765    ...      \n",
       "4  13   78.02  a  v  a  d  d -0.420940  0.880172 -2.147508    ...      \n",
       "\n",
       "       PC91      PC92      PC93      PC94      PC95      PC96      PC97  \\\n",
       "0  0.193173 -0.128277 -0.448257  0.261121 -0.378422 -0.097249  0.173570   \n",
       "1  0.004307  0.063464 -0.177404 -0.308979 -0.326524  0.175706 -0.012268   \n",
       "2 -0.292925  0.450548  0.157809 -0.128163  1.026742 -0.597846 -0.039480   \n",
       "3  0.027857 -0.052338  0.071269 -0.187180  0.103379 -0.216673  0.306872   \n",
       "4 -0.061144  0.025249  0.141818 -0.304652  0.138629 -0.184040  0.098136   \n",
       "\n",
       "       PC98      PC99     PC100  \n",
       "0 -0.432901  0.518172 -0.184147  \n",
       "1 -0.075393 -0.129021 -0.200998  \n",
       "2  0.329075 -0.345632  0.195720  \n",
       "3  0.101847 -0.220385  0.311627  \n",
       "4  0.025273 -0.188131  0.130438  \n",
       "\n",
       "[5 rows x 107 columns]"
      ]
     },
     "execution_count": 249,
     "metadata": {},
     "output_type": "execute_result"
    }
   ],
   "source": [
    "df.head()"
   ]
  },
  {
   "cell_type": "code",
   "execution_count": 308,
   "metadata": {},
   "outputs": [],
   "source": [
    "correlation_matrix = df.iloc[:, 1:].corr()\n",
    "PCAs_to_delete = correlation_matrix[correlation_matrix[\"y\"] < 0.01].index"
   ]
  },
  {
   "cell_type": "code",
   "execution_count": 309,
   "metadata": {},
   "outputs": [],
   "source": [
    "df.drop(PCAs_to_delete, axis=1, inplace=True)"
   ]
  },
  {
   "cell_type": "code",
   "execution_count": 310,
   "metadata": {},
   "outputs": [],
   "source": [
    "df=pd.get_dummies(df)"
   ]
  },
  {
   "cell_type": "code",
   "execution_count": 311,
   "metadata": {},
   "outputs": [
    {
     "data": {
      "text/plain": [
       "(8418, 73)"
      ]
     },
     "execution_count": 311,
     "metadata": {},
     "output_type": "execute_result"
    }
   ],
   "source": [
    "df.shape"
   ]
  },
  {
   "cell_type": "markdown",
   "metadata": {},
   "source": [
    "### Spliting Train and Test"
   ]
  },
  {
   "cell_type": "code",
   "execution_count": 312,
   "metadata": {},
   "outputs": [
    {
     "data": {
      "text/plain": [
       "(4209, 381)"
      ]
     },
     "execution_count": 312,
     "metadata": {},
     "output_type": "execute_result"
    }
   ],
   "source": [
    "train.shape"
   ]
  },
  {
   "cell_type": "code",
   "execution_count": 313,
   "metadata": {},
   "outputs": [
    {
     "data": {
      "text/plain": [
       "(4209, 381)"
      ]
     },
     "execution_count": 313,
     "metadata": {},
     "output_type": "execute_result"
    }
   ],
   "source": [
    "test.shape"
   ]
  },
  {
   "cell_type": "code",
   "execution_count": 314,
   "metadata": {},
   "outputs": [
    {
     "data": {
      "text/plain": [
       "(8418, 73)"
      ]
     },
     "execution_count": 314,
     "metadata": {},
     "output_type": "execute_result"
    }
   ],
   "source": [
    "df.shape"
   ]
  },
  {
   "cell_type": "code",
   "execution_count": 315,
   "metadata": {},
   "outputs": [],
   "source": [
    "train_set = df.iloc[:4209, :]\n",
    "test_set = df.iloc[4209:, :]"
   ]
  },
  {
   "cell_type": "markdown",
   "metadata": {},
   "source": [
    "### Modeling "
   ]
  },
  {
   "cell_type": "code",
   "execution_count": 259,
   "metadata": {},
   "outputs": [],
   "source": [
    "from sklearn.linear_model import Lasso\n",
    "from sklearn.model_selection import cross_val_score\n",
    "from sklearn.svm import SVR\n",
    "from sklearn.svm import LinearSVR\n",
    "from sklearn.model_selection import GridSearchCV"
   ]
  },
  {
   "cell_type": "markdown",
   "metadata": {},
   "source": [
    "### Linear Regression"
   ]
  },
  {
   "cell_type": "code",
   "execution_count": 316,
   "metadata": {},
   "outputs": [],
   "source": [
    "X_train = train_set.iloc[:, 10:]\n",
    "y_train = train_set[\"y\"]\n",
    "X_test = test_set.iloc[:, 10:]\n",
    "y_test = test_set[\"y\"]"
   ]
  },
  {
   "cell_type": "code",
   "execution_count": 148,
   "metadata": {},
   "outputs": [],
   "source": [
    "lr = Lasso()\n",
    "lr.fit(X_train, y_train)\n",
    "Lasso_cv = cross_val_score(lr, X_train, y_train, cv=5)"
   ]
  },
  {
   "cell_type": "code",
   "execution_count": 149,
   "metadata": {},
   "outputs": [
    {
     "data": {
      "text/plain": [
       "array([ 0.01392274,  0.00317356,  0.01178345,  0.01371934, -0.01637256])"
      ]
     },
     "execution_count": 149,
     "metadata": {},
     "output_type": "execute_result"
    }
   ],
   "source": [
    "Lasso_cv"
   ]
  },
  {
   "cell_type": "markdown",
   "metadata": {},
   "source": [
    "### SVM"
   ]
  },
  {
   "cell_type": "code",
   "execution_count": 150,
   "metadata": {},
   "outputs": [
    {
     "data": {
      "text/plain": [
       "array([0.53765068, 0.32468153, 0.55168554, 0.48463229, 0.66061294])"
      ]
     },
     "execution_count": 150,
     "metadata": {},
     "output_type": "execute_result"
    }
   ],
   "source": [
    "svm_model = LinearSVR()\n",
    "svm_model.fit(X_train, y_train)\n",
    "cross_val_score(svm_model, X_train, y_train, cv=5)"
   ]
  },
  {
   "cell_type": "code",
   "execution_count": 151,
   "metadata": {},
   "outputs": [
    {
     "data": {
      "text/plain": [
       "(4209, 170)"
      ]
     },
     "execution_count": 151,
     "metadata": {},
     "output_type": "execute_result"
    }
   ],
   "source": [
    "X_test.shape"
   ]
  },
  {
   "cell_type": "code",
   "execution_count": 152,
   "metadata": {},
   "outputs": [],
   "source": [
    "y_pred= svm_model.predict(X_test)"
   ]
  },
  {
   "cell_type": "code",
   "execution_count": 153,
   "metadata": {},
   "outputs": [
    {
     "data": {
      "text/plain": [
       "array([ 76.30365645,  91.11382479,  78.70143153, ...,  91.44759977,\n",
       "       109.20390762,  90.74500938])"
      ]
     },
     "execution_count": 153,
     "metadata": {},
     "output_type": "execute_result"
    }
   ],
   "source": [
    "y_pred"
   ]
  },
  {
   "cell_type": "code",
   "execution_count": 269,
   "metadata": {},
   "outputs": [
    {
     "name": "stdout",
     "output_type": "stream",
     "text": [
      "Fitting 3 folds for each of 200 candidates, totalling 600 fits\n"
     ]
    },
    {
     "name": "stderr",
     "output_type": "stream",
     "text": [
      "/anaconda3/lib/python3.7/site-packages/sklearn/model_selection/_split.py:2053: FutureWarning: You should specify a value for 'cv' instead of relying on the default value. The default value will change from 3 to 5 in version 0.22.\n",
      "  warnings.warn(CV_WARNING, FutureWarning)\n",
      "[Parallel(n_jobs=-1)]: Using backend LokyBackend with 12 concurrent workers.\n",
      "[Parallel(n_jobs=-1)]: Done  17 tasks      | elapsed:   38.9s\n",
      "[Parallel(n_jobs=-1)]: Done 138 tasks      | elapsed:  3.7min\n",
      "[Parallel(n_jobs=-1)]: Done 341 tasks      | elapsed:  8.9min\n",
      "[Parallel(n_jobs=-1)]: Done 600 out of 600 | elapsed: 15.9min finished\n"
     ]
    },
    {
     "data": {
      "text/plain": [
       "GridSearchCV(cv='warn', error_score='raise-deprecating',\n",
       "       estimator=SVR(C=1.0, cache_size=200, coef0=0.0, degree=3, epsilon=0.1,\n",
       "  gamma='auto_deprecated', kernel='rbf', max_iter=-1, shrinking=True,\n",
       "  tol=0.001, verbose=False),\n",
       "       fit_params=None, iid='warn', n_jobs=-1,\n",
       "       param_grid={'C': array([1.00000e-03, 1.90109e-03, 3.61412e-03, 6.87076e-03, 1.30619e-02,\n",
       "       2.48318e-02, 4.72073e-02, 8.97452e-02, 1.70613e-01, 3.24350e-01,\n",
       "       6.16617e-01, 1.17224e+00, 2.22853e+00, 4.23663e+00, 8.05419e+00,\n",
       "       1.53117e+01, 2.91089e+01, 5.53384e+01, 1.05203e+02, 2.00000e+02]), 'gamma': array([1.00000e-05, 3.88153e-05, 1.50663e-04, 5.84804e-04, 2.26993e-03,\n",
       "       8.81083e-03, 3.41995e-02, 1.32747e-01, 5.15260e-01, 2.00000e+00])},\n",
       "       pre_dispatch='2*n_jobs', refit=True, return_train_score='warn',\n",
       "       scoring=None, verbose=2)"
      ]
     },
     "execution_count": 269,
     "metadata": {},
     "output_type": "execute_result"
    }
   ],
   "source": [
    "parameters = {\n",
    "    \"C\": np.logspace(np.log10(0.001), np.log10(200), num=20),\n",
    "    \"gamma\": np.logspace(np.log10(0.00001), np.log10(2), num=10),\n",
    "}\n",
    "svr = SVR()\n",
    "grid_searcher = GridSearchCV(svr, parameters, n_jobs=-1, verbose=2)\n",
    "grid_searcher.fit(X_train, y_train)"
   ]
  },
  {
   "cell_type": "code",
   "execution_count": 272,
   "metadata": {},
   "outputs": [],
   "source": [
    "best_model=grid_searcher.best_estimator_"
   ]
  },
  {
   "cell_type": "code",
   "execution_count": 273,
   "metadata": {},
   "outputs": [],
   "source": [
    "y_pred=best_model.predict(X_test)"
   ]
  },
  {
   "cell_type": "markdown",
   "metadata": {},
   "source": [
    "### XGBoost"
   ]
  },
  {
   "cell_type": "code",
   "execution_count": 261,
   "metadata": {},
   "outputs": [],
   "source": [
    "import xgboost as xgb\n",
    "from xgboost.sklearn import XGBRegressor\n",
    "from xgboost import plot_importance"
   ]
  },
  {
   "cell_type": "code",
   "execution_count": 317,
   "metadata": {},
   "outputs": [
    {
     "name": "stdout",
     "output_type": "stream",
     "text": [
      "Fitting 3 folds for each of 27 candidates, totalling 81 fits\n"
     ]
    },
    {
     "name": "stderr",
     "output_type": "stream",
     "text": [
      "[Parallel(n_jobs=-1)]: Using backend LokyBackend with 12 concurrent workers.\n",
      "[Parallel(n_jobs=-1)]: Done  26 tasks      | elapsed:   19.9s\n",
      "[Parallel(n_jobs=-1)]: Done  81 out of  81 | elapsed:  1.0min finished\n",
      "/anaconda3/lib/python3.7/site-packages/xgboost/core.py:587: FutureWarning: Series.base is deprecated and will be removed in a future version\n",
      "  if getattr(data, 'base', None) is not None and \\\n",
      "/anaconda3/lib/python3.7/site-packages/xgboost/core.py:588: FutureWarning: Series.base is deprecated and will be removed in a future version\n",
      "  data.base is not None and isinstance(data, np.ndarray) \\\n"
     ]
    },
    {
     "data": {
      "text/plain": [
       "GridSearchCV(cv=3, error_score='raise-deprecating',\n",
       "       estimator=XGBRegressor(base_score=0.5, booster='gbtree', colsample_bylevel=1,\n",
       "       colsample_bytree=1, gamma=0, importance_type='gain',\n",
       "       learning_rate=0.1, max_delta_step=0, max_depth=3,\n",
       "       min_child_weight=1, missing=None, n_estimators=100, n_jobs=1,\n",
       "       nthread=None, objective='reg:linear', random_state=0, reg_alpha=0,\n",
       "       reg_lambda=1, scale_pos_weight=1, seed=None, silent=True,\n",
       "       subsample=1),\n",
       "       fit_params=None, iid='warn', n_jobs=-1,\n",
       "       param_grid={'nthread': [4], 'objective': ['reg:linear'], 'learning_rate': [0.01, 0.02, 0.03], 'max_depth': [3, 4, 5], 'min_child_weight': [4], 'silent': [1], 'subsample': [0.95], 'colsample_bytree': [0.8], 'n_estimators': [800, 1000, 1200]},\n",
       "       pre_dispatch='2*n_jobs', refit=True, return_train_score='warn',\n",
       "       scoring=None, verbose=True)"
      ]
     },
     "execution_count": 317,
     "metadata": {},
     "output_type": "execute_result"
    }
   ],
   "source": [
    "xgb1 = XGBRegressor()\n",
    "parameters = {\n",
    "    \"nthread\": [4],  # when use hyperthread, xgboost may become slower\n",
    "    \"objective\": [\"reg:linear\"],\n",
    "    \"learning_rate\": [0.01, 0.02, 0.03],  # so called `eta` value\n",
    "    \"max_depth\": [3, 4, 5],\n",
    "    \"min_child_weight\": [4],\n",
    "    \"silent\": [1],\n",
    "    \"subsample\": [0.95],\n",
    "    \"colsample_bytree\": [0.8],\n",
    "    \"n_estimators\": [800, 1000, 1200],\n",
    "}\n",
    "\n",
    "xgb_grid = GridSearchCV(xgb1, parameters, cv=3, n_jobs=-1, verbose=True)\n",
    "\n",
    "xgb_grid.fit(X_train, y_train)"
   ]
  },
  {
   "cell_type": "code",
   "execution_count": 318,
   "metadata": {},
   "outputs": [
    {
     "data": {
      "text/plain": [
       "0.5580178156545295"
      ]
     },
     "execution_count": 318,
     "metadata": {},
     "output_type": "execute_result"
    }
   ],
   "source": [
    "xgb_grid.best_score_"
   ]
  },
  {
   "cell_type": "code",
   "execution_count": 319,
   "metadata": {},
   "outputs": [
    {
     "data": {
      "text/plain": [
       "XGBRegressor(base_score=0.5, booster='gbtree', colsample_bylevel=1,\n",
       "       colsample_bytree=0.8, gamma=0, importance_type='gain',\n",
       "       learning_rate=0.01, max_delta_step=0, max_depth=3,\n",
       "       min_child_weight=4, missing=None, n_estimators=800, n_jobs=1,\n",
       "       nthread=4, objective='reg:linear', random_state=0, reg_alpha=0,\n",
       "       reg_lambda=1, scale_pos_weight=1, seed=None, silent=1,\n",
       "       subsample=0.95)"
      ]
     },
     "execution_count": 319,
     "metadata": {},
     "output_type": "execute_result"
    }
   ],
   "source": [
    "xgb_grid.best_estimator_"
   ]
  },
  {
   "cell_type": "code",
   "execution_count": 320,
   "metadata": {},
   "outputs": [],
   "source": [
    "y_pred=xgb_grid.best_estimator_.predict(X_test)"
   ]
  },
  {
   "cell_type": "code",
   "execution_count": 321,
   "metadata": {},
   "outputs": [
    {
     "data": {
      "text/plain": [
       "<matplotlib.axes._subplots.AxesSubplot at 0x1a1f9fec50>"
      ]
     },
     "execution_count": 321,
     "metadata": {},
     "output_type": "execute_result"
    },
    {
     "data": {
      "image/png": "[encoded data removed]",
      "text/plain": [
       "<Figure size 1440x1080 with 1 Axes>"
      ]
     },
     "metadata": {},
     "output_type": "display_data"
    }
   ],
   "source": [
    "fig, ax = plt.subplots(figsize=(20, 15))\n",
    "xgb.plot_importance(xgb_grid.best_estimator_, ax=ax)"
   ]
  },
  {
   "cell_type": "markdown",
   "metadata": {},
   "source": [
    "### Submission"
   ]
  },
  {
   "cell_type": "code",
   "execution_count": 322,
   "metadata": {},
   "outputs": [],
   "source": [
    "submission= pd.DataFrame({'ID':test['ID'],'y':y_pred})"
   ]
  },
  {
   "cell_type": "code",
   "execution_count": 323,
   "metadata": {},
   "outputs": [],
   "source": [
    "export_csv = submission.to_csv ('/Users/rouzbehrahimi/desktop/IE-BD/kaggle/Mercedes_Benz/S7.csv', index = None, header=True)"
   ]
  }
 ],
 "metadata": {
  "kernelspec": {
   "display_name": "Python 3",
   "language": "python",
   "name": "python3"
  },
  "language_info": {
   "codemirror_mode": {
    "name": "ipython",
    "version": 3
   },
   "file_extension": ".py",
   "mimetype": "text/x-python",
   "name": "python",
   "nbconvert_exporter": "python",
   "pygments_lexer": "ipython3",
   "version": "3.7.1"
  }
 },
 "nbformat": 4,
 "nbformat_minor": 2
}
